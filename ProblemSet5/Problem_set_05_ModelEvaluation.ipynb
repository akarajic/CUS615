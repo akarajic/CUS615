{
  "nbformat": 4,
  "nbformat_minor": 0,
  "metadata": {
    "colab": {
      "provenance": [],
      "include_colab_link": true
    },
    "kernelspec": {
      "name": "python3",
      "display_name": "Python 3"
    }
  },
  "cells": [
    {
      "cell_type": "markdown",
      "metadata": {
        "id": "view-in-github",
        "colab_type": "text"
      },
      "source": [
        "<a href=\"https://colab.research.google.com/github/akarajic/CUS615/blob/main/ProblemSet5/Problem_set_05_ModelEvaluation.ipynb\" target=\"_parent\"><img src=\"https://colab.research.google.com/assets/colab-badge.svg\" alt=\"Open In Colab\"/></a>"
      ]
    },
    {
      "cell_type": "markdown",
      "metadata": {
        "id": "ajL0q2QnDby3"
      },
      "source": [
        "This notebook is part the of Dr. Christoforos Christoforou's course materials. You may not, nor may you knowingly allow others to reproduce or distribute lecture notes, course materials or any of their derivatives without the instructor's express written consent.\n",
        "\n",
        "\n",
        "\n"
      ]
    },
    {
      "cell_type": "markdown",
      "metadata": {
        "id": "UHX03yxgR3Dv"
      },
      "source": [
        "## Problem Set 05: Hyperparameter Tuning and Model Selection"
      ]
    },
    {
      "cell_type": "markdown",
      "metadata": {
        "id": "3eZOG6mtPrcW"
      },
      "source": [
        "## Cross-validation example code\n",
        "Oftentimes, we might consider one of several classification models as our predictive function, or we might want to identify the optimal set parameters for a particular classifier. For example, the KNN classifier expects the parameter `K` which indicates the number neighbors, the SVM classifier expects some hyperparameters such as the value `C`, and the `kernel` function. \n",
        "\n",
        "Typically, we want to select the best set of parameters for our particular model. One method for selecting such hyperparameters is `cross-validation`. \n",
        "\n",
        "The code below illustrates how you can use `sklearn` functions to perform `cross-validation`."
      ]
    },
    {
      "cell_type": "code",
      "metadata": {
        "id": "KWQ6ifaXRUB8"
      },
      "source": [
        "import numpy as np\n",
        "import matplotlib.pyplot as plt \n",
        "from sklearn import metrics\n",
        "from sklearn import datasets\n",
        "from sklearn.neighbors import KNeighborsClassifier\n",
        "from sklearn.model_selection import train_test_split\n",
        "from sklearn.model_selection import cross_val_score\n",
        "from sklearn.model_selection import StratifiedKFold "
      ],
      "execution_count": 1,
      "outputs": []
    },
    {
      "cell_type": "code",
      "metadata": {
        "id": "r2IYBkdHPr6C"
      },
      "source": [
        "# Generate a sample Dataset. \n",
        "n_samples = 100\n",
        "noisy_circles = datasets.make_circles(n_samples=n_samples, factor=.5, noise=.35)\n",
        "X, y = noisy_circles"
      ],
      "execution_count": 2,
      "outputs": []
    },
    {
      "cell_type": "code",
      "metadata": {
        "colab": {
          "base_uri": "https://localhost:8080/"
        },
        "id": "Aud0Y-MwP2p6",
        "outputId": "02d3a918-d0c9-43bb-acfd-4d3ff4aa5d44"
      },
      "source": [
        "# Run one of the data generation cell above before executing this cell; \n",
        "\n",
        "from sklearn.neighbors import KNeighborsClassifier\n",
        "from sklearn.model_selection import train_test_split\n",
        "\n",
        "#\n",
        "# Split the original dataset into Training and Testing sets.\n",
        "X_train, X_test, y_train, y_test = train_test_split(X, y, random_state=54, test_size=0.45, \n",
        "                                                    shuffle=True, stratify=y)\n",
        "\n",
        "n_splits = 25       # Specify cross validation splits parameters (i.e. how many folds)\n",
        "n_neighbors = 10    # Specify classifer parameters\n",
        "\n",
        "# Generate a cross validation slplit iterator. \n",
        "cv = StratifiedKFold(n_splits=n_splits, random_state=54, shuffle=True)\n",
        "\n",
        "# use it to keep track of the accuracy total accross all folds \n",
        "kfold_acc = 0.\n",
        "\n",
        "for train_idx, valid_idx in cv.split(X_train, y_train):\n",
        "  \n",
        "  # Define the classificaiton model - KNeighborsClassifier() classifer.\n",
        "  model = KNeighborsClassifier(n_neighbors=n_neighbors)\n",
        "\n",
        "  # Train the classifier on the subset of the training data that are in the training index set current cross validation fold. \n",
        "  model.fit(X_train[train_idx],y_train[train_idx])\n",
        "\n",
        "  # Test the classifer on the subset of the training data that are in the validation index set of the current cross validation fold.\n",
        "  y_pred = model.predict(X_train[valid_idx])\n",
        "\n",
        "  # Obtain an estimate of the accuracy of the prediciton. \n",
        "  # Here we can use any of the classifer perfomrance matrics we want. \n",
        "\n",
        "  acc_metric = metrics.accuracy_score(y_pred,y_train[valid_idx])\n",
        "  kfold_acc += acc_metric \n",
        "\n",
        "# cross validation loop is complete; calcualte the average accuracy. \n",
        "kfold_acc = kfold_acc/n_splits\n",
        "\n",
        "#\n",
        "# Calculate the accuracy of the classifer on an independent test set. \n",
        "# \n",
        " \n",
        "model = KNeighborsClassifier(n_neighbors=n_neighbors)\n",
        "model.fit(X_train, y_train)\n",
        "y_pred = model.predict(X_test)\n",
        "test_acc = metrics.accuracy_score(y_pred, y_test)\n",
        "\n",
        "print(\"Cross-validation Accuracy: {:.2f}\".format(kfold_acc))\n",
        "print(\"Test Accuracy: {:.2f}\".format(test_acc))\n"
      ],
      "execution_count": 3,
      "outputs": [
        {
          "output_type": "stream",
          "name": "stdout",
          "text": [
            "Cross-validation Accuracy: 0.57\n",
            "Test Accuracy: 0.64\n"
          ]
        }
      ]
    },
    {
      "cell_type": "markdown",
      "metadata": {
        "id": "mYzRE0m4P8pO"
      },
      "source": [
        "Alternatively, we can use the `cross_val_score` to simplify the procedure as follows:"
      ]
    },
    {
      "cell_type": "code",
      "metadata": {
        "colab": {
          "base_uri": "https://localhost:8080/"
        },
        "id": "fZZEg4GqP7xv",
        "outputId": "1e79015e-a881-46cb-ee65-3112be660185"
      },
      "source": [
        "#\n",
        "# Since cross-validation use-case is so common when assessing the performance of a classifer, sklearn library \n",
        "# has a dedicated method (i.e. the corss_val_score) that implements the entire cross-validation pipeline. \n",
        "#\n",
        "# A more compact way to implement the same logic as the code above is to use a method provided by sklearn library.\n",
        " \n",
        "\n",
        "from sklearn.model_selection import cross_val_score\n",
        "\n",
        "#\n",
        "# Split the original dataset into Training and Testing sets.\n",
        "X_train, X_test, y_train, y_test = train_test_split(X, y, random_state=54, test_size=0.45, \n",
        "                                                    shuffle=True, stratify=y)\n",
        "# Specify the classifier. \n",
        "model = KNeighborsClassifier(n_neighbors=n_neighbors)\n",
        "\n",
        "# Specify the corss validation parameters\n",
        "cv = StratifiedKFold(n_splits=10, random_state=43, shuffle=True)\n",
        "\n",
        "# Rum the corss-validation processing pipline \n",
        "cv_acc = cross_val_score(estimator=model,\n",
        "                         X=X_train,\n",
        "                         y=y_train,\n",
        "                         cv=cv,\n",
        "                         n_jobs=-1)\n",
        "\n",
        "# Report results of the accuracy. \n",
        "print(\"Cross-validation: {:.2f}\".format(np.mean(cv_acc)))"
      ],
      "execution_count": 4,
      "outputs": [
        {
          "output_type": "stream",
          "name": "stdout",
          "text": [
            "Cross-validation: 0.56\n"
          ]
        }
      ]
    },
    {
      "cell_type": "markdown",
      "metadata": {
        "id": "ncdkaDG6JdQQ"
      },
      "source": [
        "### Challenges : Cross Valudation for Hyperparameter Tuning\n",
        "In this exercise, you will be working with the Pima Indians Diabetes Database database by Vincent Sigillito, which is available from the UCI database (https://archive.ics.uci.edu/ml/datasets/pima+indians+diabetes) or OpenML (https://www.openml.org/d/37).\n",
        "\n",
        "The dataset contains information about 768 patients along with the Diabetes diagnosis. The Diabetes diagnosis is a binary label, where \"tested_positive\" means that a patient has diabetes and \"tested_negative\" means that a patient does not have diabetes.\n",
        "\n",
        "I addition to the class label, there are 8 numeric features in the dataset, which are listed below:\n",
        "\n",
        "- Number of times pregnant\n",
        "- Plasma glucose concentration a 2 hours in an oral glucose tolerance test\n",
        "- Diastolic blood pressure (mm Hg)\n",
        "- Triceps skin fold thickness (mm)\n",
        "- 2-Hour serum insulin (mu U/ml)\n",
        "- Body mass index (weight in kg/(height in m)^2)\n",
        "- Diabetes pedigree function\n",
        "- Age (years)"
      ]
    },
    {
      "cell_type": "markdown",
      "metadata": {
        "id": "v_XOEDnjTmVn"
      },
      "source": [
        "### Download the dataset "
      ]
    },
    {
      "cell_type": "code",
      "metadata": {
        "id": "hFrOEzVGK3M7"
      },
      "source": [
        "!pip install -q kaggle"
      ],
      "execution_count": 5,
      "outputs": []
    },
    {
      "cell_type": "code",
      "metadata": {
        "id": "yNRPA9wHK4Up",
        "colab": {
          "base_uri": "https://localhost:8080/",
          "height": 74
        },
        "outputId": "ee9b5c12-c3a5-463f-ab68-b8410e05192b"
      },
      "source": [
        "#Upload the kaggle API key of your account \n",
        "from google.colab import files \n",
        "files.upload()\n",
        "!mkdir ~/.kaggle\n",
        "!cp kaggle.json ~/.kaggle\n",
        "!chmod 600 ~/.kaggle/kaggle.json"
      ],
      "execution_count": 6,
      "outputs": [
        {
          "output_type": "display_data",
          "data": {
            "text/plain": [
              "<IPython.core.display.HTML object>"
            ],
            "text/html": [
              "\n",
              "     <input type=\"file\" id=\"files-5e1df703-8b2c-4094-a0be-c81e2027d1d7\" name=\"files[]\" multiple disabled\n",
              "        style=\"border:none\" />\n",
              "     <output id=\"result-5e1df703-8b2c-4094-a0be-c81e2027d1d7\">\n",
              "      Upload widget is only available when the cell has been executed in the\n",
              "      current browser session. Please rerun this cell to enable.\n",
              "      </output>\n",
              "      <script>// Copyright 2017 Google LLC\n",
              "//\n",
              "// Licensed under the Apache License, Version 2.0 (the \"License\");\n",
              "// you may not use this file except in compliance with the License.\n",
              "// You may obtain a copy of the License at\n",
              "//\n",
              "//      http://www.apache.org/licenses/LICENSE-2.0\n",
              "//\n",
              "// Unless required by applicable law or agreed to in writing, software\n",
              "// distributed under the License is distributed on an \"AS IS\" BASIS,\n",
              "// WITHOUT WARRANTIES OR CONDITIONS OF ANY KIND, either express or implied.\n",
              "// See the License for the specific language governing permissions and\n",
              "// limitations under the License.\n",
              "\n",
              "/**\n",
              " * @fileoverview Helpers for google.colab Python module.\n",
              " */\n",
              "(function(scope) {\n",
              "function span(text, styleAttributes = {}) {\n",
              "  const element = document.createElement('span');\n",
              "  element.textContent = text;\n",
              "  for (const key of Object.keys(styleAttributes)) {\n",
              "    element.style[key] = styleAttributes[key];\n",
              "  }\n",
              "  return element;\n",
              "}\n",
              "\n",
              "// Max number of bytes which will be uploaded at a time.\n",
              "const MAX_PAYLOAD_SIZE = 100 * 1024;\n",
              "\n",
              "function _uploadFiles(inputId, outputId) {\n",
              "  const steps = uploadFilesStep(inputId, outputId);\n",
              "  const outputElement = document.getElementById(outputId);\n",
              "  // Cache steps on the outputElement to make it available for the next call\n",
              "  // to uploadFilesContinue from Python.\n",
              "  outputElement.steps = steps;\n",
              "\n",
              "  return _uploadFilesContinue(outputId);\n",
              "}\n",
              "\n",
              "// This is roughly an async generator (not supported in the browser yet),\n",
              "// where there are multiple asynchronous steps and the Python side is going\n",
              "// to poll for completion of each step.\n",
              "// This uses a Promise to block the python side on completion of each step,\n",
              "// then passes the result of the previous step as the input to the next step.\n",
              "function _uploadFilesContinue(outputId) {\n",
              "  const outputElement = document.getElementById(outputId);\n",
              "  const steps = outputElement.steps;\n",
              "\n",
              "  const next = steps.next(outputElement.lastPromiseValue);\n",
              "  return Promise.resolve(next.value.promise).then((value) => {\n",
              "    // Cache the last promise value to make it available to the next\n",
              "    // step of the generator.\n",
              "    outputElement.lastPromiseValue = value;\n",
              "    return next.value.response;\n",
              "  });\n",
              "}\n",
              "\n",
              "/**\n",
              " * Generator function which is called between each async step of the upload\n",
              " * process.\n",
              " * @param {string} inputId Element ID of the input file picker element.\n",
              " * @param {string} outputId Element ID of the output display.\n",
              " * @return {!Iterable<!Object>} Iterable of next steps.\n",
              " */\n",
              "function* uploadFilesStep(inputId, outputId) {\n",
              "  const inputElement = document.getElementById(inputId);\n",
              "  inputElement.disabled = false;\n",
              "\n",
              "  const outputElement = document.getElementById(outputId);\n",
              "  outputElement.innerHTML = '';\n",
              "\n",
              "  const pickedPromise = new Promise((resolve) => {\n",
              "    inputElement.addEventListener('change', (e) => {\n",
              "      resolve(e.target.files);\n",
              "    });\n",
              "  });\n",
              "\n",
              "  const cancel = document.createElement('button');\n",
              "  inputElement.parentElement.appendChild(cancel);\n",
              "  cancel.textContent = 'Cancel upload';\n",
              "  const cancelPromise = new Promise((resolve) => {\n",
              "    cancel.onclick = () => {\n",
              "      resolve(null);\n",
              "    };\n",
              "  });\n",
              "\n",
              "  // Wait for the user to pick the files.\n",
              "  const files = yield {\n",
              "    promise: Promise.race([pickedPromise, cancelPromise]),\n",
              "    response: {\n",
              "      action: 'starting',\n",
              "    }\n",
              "  };\n",
              "\n",
              "  cancel.remove();\n",
              "\n",
              "  // Disable the input element since further picks are not allowed.\n",
              "  inputElement.disabled = true;\n",
              "\n",
              "  if (!files) {\n",
              "    return {\n",
              "      response: {\n",
              "        action: 'complete',\n",
              "      }\n",
              "    };\n",
              "  }\n",
              "\n",
              "  for (const file of files) {\n",
              "    const li = document.createElement('li');\n",
              "    li.append(span(file.name, {fontWeight: 'bold'}));\n",
              "    li.append(span(\n",
              "        `(${file.type || 'n/a'}) - ${file.size} bytes, ` +\n",
              "        `last modified: ${\n",
              "            file.lastModifiedDate ? file.lastModifiedDate.toLocaleDateString() :\n",
              "                                    'n/a'} - `));\n",
              "    const percent = span('0% done');\n",
              "    li.appendChild(percent);\n",
              "\n",
              "    outputElement.appendChild(li);\n",
              "\n",
              "    const fileDataPromise = new Promise((resolve) => {\n",
              "      const reader = new FileReader();\n",
              "      reader.onload = (e) => {\n",
              "        resolve(e.target.result);\n",
              "      };\n",
              "      reader.readAsArrayBuffer(file);\n",
              "    });\n",
              "    // Wait for the data to be ready.\n",
              "    let fileData = yield {\n",
              "      promise: fileDataPromise,\n",
              "      response: {\n",
              "        action: 'continue',\n",
              "      }\n",
              "    };\n",
              "\n",
              "    // Use a chunked sending to avoid message size limits. See b/62115660.\n",
              "    let position = 0;\n",
              "    do {\n",
              "      const length = Math.min(fileData.byteLength - position, MAX_PAYLOAD_SIZE);\n",
              "      const chunk = new Uint8Array(fileData, position, length);\n",
              "      position += length;\n",
              "\n",
              "      const base64 = btoa(String.fromCharCode.apply(null, chunk));\n",
              "      yield {\n",
              "        response: {\n",
              "          action: 'append',\n",
              "          file: file.name,\n",
              "          data: base64,\n",
              "        },\n",
              "      };\n",
              "\n",
              "      let percentDone = fileData.byteLength === 0 ?\n",
              "          100 :\n",
              "          Math.round((position / fileData.byteLength) * 100);\n",
              "      percent.textContent = `${percentDone}% done`;\n",
              "\n",
              "    } while (position < fileData.byteLength);\n",
              "  }\n",
              "\n",
              "  // All done.\n",
              "  yield {\n",
              "    response: {\n",
              "      action: 'complete',\n",
              "    }\n",
              "  };\n",
              "}\n",
              "\n",
              "scope.google = scope.google || {};\n",
              "scope.google.colab = scope.google.colab || {};\n",
              "scope.google.colab._files = {\n",
              "  _uploadFiles,\n",
              "  _uploadFilesContinue,\n",
              "};\n",
              "})(self);\n",
              "</script> "
            ]
          },
          "metadata": {}
        },
        {
          "output_type": "stream",
          "name": "stdout",
          "text": [
            "Saving kaggle.json to kaggle.json\n"
          ]
        }
      ]
    },
    {
      "cell_type": "code",
      "metadata": {
        "id": "m_URhfW0K8oa"
      },
      "source": [
        "# Download - Specify the parameters.  \n",
        "kaggle_dataset_URI = \"cchristoforou/practice-dataset-for-tutorials\"\n",
        "output_folder = \"sample_data/problem_set05\"\n",
        "kaggle_data_file1 = \"dataset_37_diabetes.csv\""
      ],
      "execution_count": 7,
      "outputs": []
    },
    {
      "cell_type": "code",
      "metadata": {
        "id": "iYy4rG_TLHFc",
        "colab": {
          "base_uri": "https://localhost:8080/"
        },
        "outputId": "132b5326-d89f-47b5-cd67-6c0e8e27d33c"
      },
      "source": [
        "# Download the first file from dataset - countries.csv\n",
        "!kaggle datasets download $kaggle_dataset_URI --file $kaggle_data_file1 --path $output_folder"
      ],
      "execution_count": 8,
      "outputs": [
        {
          "output_type": "stream",
          "name": "stdout",
          "text": [
            "Downloading dataset_37_diabetes.csv to sample_data/problem_set05\n",
            "\r  0% 0.00/33.0k [00:00<?, ?B/s]\n",
            "\r100% 33.0k/33.0k [00:00<00:00, 40.9MB/s]\n"
          ]
        }
      ]
    },
    {
      "cell_type": "markdown",
      "metadata": {
        "id": "8rErv0BeL4gb"
      },
      "source": [
        "###  Load the Dataset\n",
        "\n",
        "Use pandas to load the dataset from the `dataset_37_diabetes.csv` CSV file located under the `sample_data/problem_set05` folder in your colab environment. Make sure you downloaded the data by executing `kaggle` command at the top of this notebook.\n"
      ]
    },
    {
      "cell_type": "code",
      "metadata": {
        "id": "AQ1joY2nL7lr",
        "colab": {
          "base_uri": "https://localhost:8080/",
          "height": 206
        },
        "outputId": "a56709e8-40f9-4e77-c0fc-3264617d5804"
      },
      "source": [
        "import pandas as pd\n",
        "df = pd.read_csv('./sample_data/problem_set05/dataset_37_diabetes.csv')\n",
        "df.head()"
      ],
      "execution_count": 10,
      "outputs": [
        {
          "output_type": "execute_result",
          "data": {
            "text/plain": [
              "   preg  plas  pres  skin  insu  mass   pedi  age            class\n",
              "0     6   148    72    35     0  33.6  0.627   50  tested_positive\n",
              "1     1    85    66    29     0  26.6  0.351   31  tested_negative\n",
              "2     8   183    64     0     0  23.3  0.672   32  tested_positive\n",
              "3     1    89    66    23    94  28.1  0.167   21  tested_negative\n",
              "4     0   137    40    35   168  43.1  2.288   33  tested_positive"
            ],
            "text/html": [
              "\n",
              "  <div id=\"df-f608f104-a079-4f18-84e9-d8ef4872ca2e\">\n",
              "    <div class=\"colab-df-container\">\n",
              "      <div>\n",
              "<style scoped>\n",
              "    .dataframe tbody tr th:only-of-type {\n",
              "        vertical-align: middle;\n",
              "    }\n",
              "\n",
              "    .dataframe tbody tr th {\n",
              "        vertical-align: top;\n",
              "    }\n",
              "\n",
              "    .dataframe thead th {\n",
              "        text-align: right;\n",
              "    }\n",
              "</style>\n",
              "<table border=\"1\" class=\"dataframe\">\n",
              "  <thead>\n",
              "    <tr style=\"text-align: right;\">\n",
              "      <th></th>\n",
              "      <th>preg</th>\n",
              "      <th>plas</th>\n",
              "      <th>pres</th>\n",
              "      <th>skin</th>\n",
              "      <th>insu</th>\n",
              "      <th>mass</th>\n",
              "      <th>pedi</th>\n",
              "      <th>age</th>\n",
              "      <th>class</th>\n",
              "    </tr>\n",
              "  </thead>\n",
              "  <tbody>\n",
              "    <tr>\n",
              "      <th>0</th>\n",
              "      <td>6</td>\n",
              "      <td>148</td>\n",
              "      <td>72</td>\n",
              "      <td>35</td>\n",
              "      <td>0</td>\n",
              "      <td>33.6</td>\n",
              "      <td>0.627</td>\n",
              "      <td>50</td>\n",
              "      <td>tested_positive</td>\n",
              "    </tr>\n",
              "    <tr>\n",
              "      <th>1</th>\n",
              "      <td>1</td>\n",
              "      <td>85</td>\n",
              "      <td>66</td>\n",
              "      <td>29</td>\n",
              "      <td>0</td>\n",
              "      <td>26.6</td>\n",
              "      <td>0.351</td>\n",
              "      <td>31</td>\n",
              "      <td>tested_negative</td>\n",
              "    </tr>\n",
              "    <tr>\n",
              "      <th>2</th>\n",
              "      <td>8</td>\n",
              "      <td>183</td>\n",
              "      <td>64</td>\n",
              "      <td>0</td>\n",
              "      <td>0</td>\n",
              "      <td>23.3</td>\n",
              "      <td>0.672</td>\n",
              "      <td>32</td>\n",
              "      <td>tested_positive</td>\n",
              "    </tr>\n",
              "    <tr>\n",
              "      <th>3</th>\n",
              "      <td>1</td>\n",
              "      <td>89</td>\n",
              "      <td>66</td>\n",
              "      <td>23</td>\n",
              "      <td>94</td>\n",
              "      <td>28.1</td>\n",
              "      <td>0.167</td>\n",
              "      <td>21</td>\n",
              "      <td>tested_negative</td>\n",
              "    </tr>\n",
              "    <tr>\n",
              "      <th>4</th>\n",
              "      <td>0</td>\n",
              "      <td>137</td>\n",
              "      <td>40</td>\n",
              "      <td>35</td>\n",
              "      <td>168</td>\n",
              "      <td>43.1</td>\n",
              "      <td>2.288</td>\n",
              "      <td>33</td>\n",
              "      <td>tested_positive</td>\n",
              "    </tr>\n",
              "  </tbody>\n",
              "</table>\n",
              "</div>\n",
              "      <button class=\"colab-df-convert\" onclick=\"convertToInteractive('df-f608f104-a079-4f18-84e9-d8ef4872ca2e')\"\n",
              "              title=\"Convert this dataframe to an interactive table.\"\n",
              "              style=\"display:none;\">\n",
              "        \n",
              "  <svg xmlns=\"http://www.w3.org/2000/svg\" height=\"24px\"viewBox=\"0 0 24 24\"\n",
              "       width=\"24px\">\n",
              "    <path d=\"M0 0h24v24H0V0z\" fill=\"none\"/>\n",
              "    <path d=\"M18.56 5.44l.94 2.06.94-2.06 2.06-.94-2.06-.94-.94-2.06-.94 2.06-2.06.94zm-11 1L8.5 8.5l.94-2.06 2.06-.94-2.06-.94L8.5 2.5l-.94 2.06-2.06.94zm10 10l.94 2.06.94-2.06 2.06-.94-2.06-.94-.94-2.06-.94 2.06-2.06.94z\"/><path d=\"M17.41 7.96l-1.37-1.37c-.4-.4-.92-.59-1.43-.59-.52 0-1.04.2-1.43.59L10.3 9.45l-7.72 7.72c-.78.78-.78 2.05 0 2.83L4 21.41c.39.39.9.59 1.41.59.51 0 1.02-.2 1.41-.59l7.78-7.78 2.81-2.81c.8-.78.8-2.07 0-2.86zM5.41 20L4 18.59l7.72-7.72 1.47 1.35L5.41 20z\"/>\n",
              "  </svg>\n",
              "      </button>\n",
              "      \n",
              "  <style>\n",
              "    .colab-df-container {\n",
              "      display:flex;\n",
              "      flex-wrap:wrap;\n",
              "      gap: 12px;\n",
              "    }\n",
              "\n",
              "    .colab-df-convert {\n",
              "      background-color: #E8F0FE;\n",
              "      border: none;\n",
              "      border-radius: 50%;\n",
              "      cursor: pointer;\n",
              "      display: none;\n",
              "      fill: #1967D2;\n",
              "      height: 32px;\n",
              "      padding: 0 0 0 0;\n",
              "      width: 32px;\n",
              "    }\n",
              "\n",
              "    .colab-df-convert:hover {\n",
              "      background-color: #E2EBFA;\n",
              "      box-shadow: 0px 1px 2px rgba(60, 64, 67, 0.3), 0px 1px 3px 1px rgba(60, 64, 67, 0.15);\n",
              "      fill: #174EA6;\n",
              "    }\n",
              "\n",
              "    [theme=dark] .colab-df-convert {\n",
              "      background-color: #3B4455;\n",
              "      fill: #D2E3FC;\n",
              "    }\n",
              "\n",
              "    [theme=dark] .colab-df-convert:hover {\n",
              "      background-color: #434B5C;\n",
              "      box-shadow: 0px 1px 3px 1px rgba(0, 0, 0, 0.15);\n",
              "      filter: drop-shadow(0px 1px 2px rgba(0, 0, 0, 0.3));\n",
              "      fill: #FFFFFF;\n",
              "    }\n",
              "  </style>\n",
              "\n",
              "      <script>\n",
              "        const buttonEl =\n",
              "          document.querySelector('#df-f608f104-a079-4f18-84e9-d8ef4872ca2e button.colab-df-convert');\n",
              "        buttonEl.style.display =\n",
              "          google.colab.kernel.accessAllowed ? 'block' : 'none';\n",
              "\n",
              "        async function convertToInteractive(key) {\n",
              "          const element = document.querySelector('#df-f608f104-a079-4f18-84e9-d8ef4872ca2e');\n",
              "          const dataTable =\n",
              "            await google.colab.kernel.invokeFunction('convertToInteractive',\n",
              "                                                     [key], {});\n",
              "          if (!dataTable) return;\n",
              "\n",
              "          const docLinkHtml = 'Like what you see? Visit the ' +\n",
              "            '<a target=\"_blank\" href=https://colab.research.google.com/notebooks/data_table.ipynb>data table notebook</a>'\n",
              "            + ' to learn more about interactive tables.';\n",
              "          element.innerHTML = '';\n",
              "          dataTable['output_type'] = 'display_data';\n",
              "          await google.colab.output.renderOutput(dataTable, element);\n",
              "          const docLink = document.createElement('div');\n",
              "          docLink.innerHTML = docLinkHtml;\n",
              "          element.appendChild(docLink);\n",
              "        }\n",
              "      </script>\n",
              "    </div>\n",
              "  </div>\n",
              "  "
            ]
          },
          "metadata": {},
          "execution_count": 10
        }
      ]
    },
    {
      "cell_type": "markdown",
      "metadata": {
        "id": "LfARCZPjMUU2"
      },
      "source": [
        "### Challenge 1 : Preprocess the class label\n",
        "\n",
        "Convert the class label using pandas `apply` or `map` method. The mapping should be as follows:\n",
        "\n",
        "- 'tested_positive' should be converted to 1 \n",
        "- 'tested_negative' should be converted to 0\n",
        "\n",
        "Check the documentation of the `map` method [here](https://pandas.pydata.org/pandas-docs/stable/reference/api/pandas.Series.map.html) and the `appy` method [here](https://pandas.pydata.org/pandas-docs/stable/reference/api/pandas.Series.apply.html#pandas.Series.apply)"
      ]
    },
    {
      "cell_type": "code",
      "metadata": {
        "id": "SCa3MvLVMe1t",
        "colab": {
          "base_uri": "https://localhost:8080/",
          "height": 424
        },
        "outputId": "2a44234c-95a1-446f-966d-dc0d8f44bc1a"
      },
      "source": [
        "import pandas as pd\n",
        "df['class'] = df['class'].map({'tested_positive':1, 'tested_negative':0})\n",
        "df"
      ],
      "execution_count": 11,
      "outputs": [
        {
          "output_type": "execute_result",
          "data": {
            "text/plain": [
              "     preg  plas  pres  skin  insu  mass   pedi  age  class\n",
              "0       6   148    72    35     0  33.6  0.627   50      1\n",
              "1       1    85    66    29     0  26.6  0.351   31      0\n",
              "2       8   183    64     0     0  23.3  0.672   32      1\n",
              "3       1    89    66    23    94  28.1  0.167   21      0\n",
              "4       0   137    40    35   168  43.1  2.288   33      1\n",
              "..    ...   ...   ...   ...   ...   ...    ...  ...    ...\n",
              "763    10   101    76    48   180  32.9  0.171   63      0\n",
              "764     2   122    70    27     0  36.8  0.340   27      0\n",
              "765     5   121    72    23   112  26.2  0.245   30      0\n",
              "766     1   126    60     0     0  30.1  0.349   47      1\n",
              "767     1    93    70    31     0  30.4  0.315   23      0\n",
              "\n",
              "[768 rows x 9 columns]"
            ],
            "text/html": [
              "\n",
              "  <div id=\"df-9151fa38-9693-4418-afe2-57112a70d0fa\">\n",
              "    <div class=\"colab-df-container\">\n",
              "      <div>\n",
              "<style scoped>\n",
              "    .dataframe tbody tr th:only-of-type {\n",
              "        vertical-align: middle;\n",
              "    }\n",
              "\n",
              "    .dataframe tbody tr th {\n",
              "        vertical-align: top;\n",
              "    }\n",
              "\n",
              "    .dataframe thead th {\n",
              "        text-align: right;\n",
              "    }\n",
              "</style>\n",
              "<table border=\"1\" class=\"dataframe\">\n",
              "  <thead>\n",
              "    <tr style=\"text-align: right;\">\n",
              "      <th></th>\n",
              "      <th>preg</th>\n",
              "      <th>plas</th>\n",
              "      <th>pres</th>\n",
              "      <th>skin</th>\n",
              "      <th>insu</th>\n",
              "      <th>mass</th>\n",
              "      <th>pedi</th>\n",
              "      <th>age</th>\n",
              "      <th>class</th>\n",
              "    </tr>\n",
              "  </thead>\n",
              "  <tbody>\n",
              "    <tr>\n",
              "      <th>0</th>\n",
              "      <td>6</td>\n",
              "      <td>148</td>\n",
              "      <td>72</td>\n",
              "      <td>35</td>\n",
              "      <td>0</td>\n",
              "      <td>33.6</td>\n",
              "      <td>0.627</td>\n",
              "      <td>50</td>\n",
              "      <td>1</td>\n",
              "    </tr>\n",
              "    <tr>\n",
              "      <th>1</th>\n",
              "      <td>1</td>\n",
              "      <td>85</td>\n",
              "      <td>66</td>\n",
              "      <td>29</td>\n",
              "      <td>0</td>\n",
              "      <td>26.6</td>\n",
              "      <td>0.351</td>\n",
              "      <td>31</td>\n",
              "      <td>0</td>\n",
              "    </tr>\n",
              "    <tr>\n",
              "      <th>2</th>\n",
              "      <td>8</td>\n",
              "      <td>183</td>\n",
              "      <td>64</td>\n",
              "      <td>0</td>\n",
              "      <td>0</td>\n",
              "      <td>23.3</td>\n",
              "      <td>0.672</td>\n",
              "      <td>32</td>\n",
              "      <td>1</td>\n",
              "    </tr>\n",
              "    <tr>\n",
              "      <th>3</th>\n",
              "      <td>1</td>\n",
              "      <td>89</td>\n",
              "      <td>66</td>\n",
              "      <td>23</td>\n",
              "      <td>94</td>\n",
              "      <td>28.1</td>\n",
              "      <td>0.167</td>\n",
              "      <td>21</td>\n",
              "      <td>0</td>\n",
              "    </tr>\n",
              "    <tr>\n",
              "      <th>4</th>\n",
              "      <td>0</td>\n",
              "      <td>137</td>\n",
              "      <td>40</td>\n",
              "      <td>35</td>\n",
              "      <td>168</td>\n",
              "      <td>43.1</td>\n",
              "      <td>2.288</td>\n",
              "      <td>33</td>\n",
              "      <td>1</td>\n",
              "    </tr>\n",
              "    <tr>\n",
              "      <th>...</th>\n",
              "      <td>...</td>\n",
              "      <td>...</td>\n",
              "      <td>...</td>\n",
              "      <td>...</td>\n",
              "      <td>...</td>\n",
              "      <td>...</td>\n",
              "      <td>...</td>\n",
              "      <td>...</td>\n",
              "      <td>...</td>\n",
              "    </tr>\n",
              "    <tr>\n",
              "      <th>763</th>\n",
              "      <td>10</td>\n",
              "      <td>101</td>\n",
              "      <td>76</td>\n",
              "      <td>48</td>\n",
              "      <td>180</td>\n",
              "      <td>32.9</td>\n",
              "      <td>0.171</td>\n",
              "      <td>63</td>\n",
              "      <td>0</td>\n",
              "    </tr>\n",
              "    <tr>\n",
              "      <th>764</th>\n",
              "      <td>2</td>\n",
              "      <td>122</td>\n",
              "      <td>70</td>\n",
              "      <td>27</td>\n",
              "      <td>0</td>\n",
              "      <td>36.8</td>\n",
              "      <td>0.340</td>\n",
              "      <td>27</td>\n",
              "      <td>0</td>\n",
              "    </tr>\n",
              "    <tr>\n",
              "      <th>765</th>\n",
              "      <td>5</td>\n",
              "      <td>121</td>\n",
              "      <td>72</td>\n",
              "      <td>23</td>\n",
              "      <td>112</td>\n",
              "      <td>26.2</td>\n",
              "      <td>0.245</td>\n",
              "      <td>30</td>\n",
              "      <td>0</td>\n",
              "    </tr>\n",
              "    <tr>\n",
              "      <th>766</th>\n",
              "      <td>1</td>\n",
              "      <td>126</td>\n",
              "      <td>60</td>\n",
              "      <td>0</td>\n",
              "      <td>0</td>\n",
              "      <td>30.1</td>\n",
              "      <td>0.349</td>\n",
              "      <td>47</td>\n",
              "      <td>1</td>\n",
              "    </tr>\n",
              "    <tr>\n",
              "      <th>767</th>\n",
              "      <td>1</td>\n",
              "      <td>93</td>\n",
              "      <td>70</td>\n",
              "      <td>31</td>\n",
              "      <td>0</td>\n",
              "      <td>30.4</td>\n",
              "      <td>0.315</td>\n",
              "      <td>23</td>\n",
              "      <td>0</td>\n",
              "    </tr>\n",
              "  </tbody>\n",
              "</table>\n",
              "<p>768 rows × 9 columns</p>\n",
              "</div>\n",
              "      <button class=\"colab-df-convert\" onclick=\"convertToInteractive('df-9151fa38-9693-4418-afe2-57112a70d0fa')\"\n",
              "              title=\"Convert this dataframe to an interactive table.\"\n",
              "              style=\"display:none;\">\n",
              "        \n",
              "  <svg xmlns=\"http://www.w3.org/2000/svg\" height=\"24px\"viewBox=\"0 0 24 24\"\n",
              "       width=\"24px\">\n",
              "    <path d=\"M0 0h24v24H0V0z\" fill=\"none\"/>\n",
              "    <path d=\"M18.56 5.44l.94 2.06.94-2.06 2.06-.94-2.06-.94-.94-2.06-.94 2.06-2.06.94zm-11 1L8.5 8.5l.94-2.06 2.06-.94-2.06-.94L8.5 2.5l-.94 2.06-2.06.94zm10 10l.94 2.06.94-2.06 2.06-.94-2.06-.94-.94-2.06-.94 2.06-2.06.94z\"/><path d=\"M17.41 7.96l-1.37-1.37c-.4-.4-.92-.59-1.43-.59-.52 0-1.04.2-1.43.59L10.3 9.45l-7.72 7.72c-.78.78-.78 2.05 0 2.83L4 21.41c.39.39.9.59 1.41.59.51 0 1.02-.2 1.41-.59l7.78-7.78 2.81-2.81c.8-.78.8-2.07 0-2.86zM5.41 20L4 18.59l7.72-7.72 1.47 1.35L5.41 20z\"/>\n",
              "  </svg>\n",
              "      </button>\n",
              "      \n",
              "  <style>\n",
              "    .colab-df-container {\n",
              "      display:flex;\n",
              "      flex-wrap:wrap;\n",
              "      gap: 12px;\n",
              "    }\n",
              "\n",
              "    .colab-df-convert {\n",
              "      background-color: #E8F0FE;\n",
              "      border: none;\n",
              "      border-radius: 50%;\n",
              "      cursor: pointer;\n",
              "      display: none;\n",
              "      fill: #1967D2;\n",
              "      height: 32px;\n",
              "      padding: 0 0 0 0;\n",
              "      width: 32px;\n",
              "    }\n",
              "\n",
              "    .colab-df-convert:hover {\n",
              "      background-color: #E2EBFA;\n",
              "      box-shadow: 0px 1px 2px rgba(60, 64, 67, 0.3), 0px 1px 3px 1px rgba(60, 64, 67, 0.15);\n",
              "      fill: #174EA6;\n",
              "    }\n",
              "\n",
              "    [theme=dark] .colab-df-convert {\n",
              "      background-color: #3B4455;\n",
              "      fill: #D2E3FC;\n",
              "    }\n",
              "\n",
              "    [theme=dark] .colab-df-convert:hover {\n",
              "      background-color: #434B5C;\n",
              "      box-shadow: 0px 1px 3px 1px rgba(0, 0, 0, 0.15);\n",
              "      filter: drop-shadow(0px 1px 2px rgba(0, 0, 0, 0.3));\n",
              "      fill: #FFFFFF;\n",
              "    }\n",
              "  </style>\n",
              "\n",
              "      <script>\n",
              "        const buttonEl =\n",
              "          document.querySelector('#df-9151fa38-9693-4418-afe2-57112a70d0fa button.colab-df-convert');\n",
              "        buttonEl.style.display =\n",
              "          google.colab.kernel.accessAllowed ? 'block' : 'none';\n",
              "\n",
              "        async function convertToInteractive(key) {\n",
              "          const element = document.querySelector('#df-9151fa38-9693-4418-afe2-57112a70d0fa');\n",
              "          const dataTable =\n",
              "            await google.colab.kernel.invokeFunction('convertToInteractive',\n",
              "                                                     [key], {});\n",
              "          if (!dataTable) return;\n",
              "\n",
              "          const docLinkHtml = 'Like what you see? Visit the ' +\n",
              "            '<a target=\"_blank\" href=https://colab.research.google.com/notebooks/data_table.ipynb>data table notebook</a>'\n",
              "            + ' to learn more about interactive tables.';\n",
              "          element.innerHTML = '';\n",
              "          dataTable['output_type'] = 'display_data';\n",
              "          await google.colab.output.renderOutput(dataTable, element);\n",
              "          const docLink = document.createElement('div');\n",
              "          docLink.innerHTML = docLinkHtml;\n",
              "          element.appendChild(docLink);\n",
              "        }\n",
              "      </script>\n",
              "    </div>\n",
              "  </div>\n",
              "  "
            ]
          },
          "metadata": {},
          "execution_count": 11
        }
      ]
    },
    {
      "cell_type": "markdown",
      "metadata": {
        "id": "9N0wysVkMn2I"
      },
      "source": [
        "### Challenge 2:  Split dataset into training and test sets\n",
        "\n",
        "Split the dataset into 70% training and 30% test data. Perform a `stratified split` use 0 as the random seed for shuffling. You might want to check the documentatin of the `train_test_split` method of sklearn available [here](https://scikit-learn.org/stable/modules/generated/sklearn.model_selection.train_test_split.html)."
      ]
    },
    {
      "cell_type": "code",
      "metadata": {
        "id": "EA18HJpkNKbB"
      },
      "source": [
        "import numpy as np\n",
        "from sklearn.model_selection import train_test_split\n",
        "X_train, X_test, y_train, y_test = train_test_split(X, y, test_size=0.30, random_state=0, shuffle=0)"
      ],
      "execution_count": 12,
      "outputs": []
    },
    {
      "cell_type": "markdown",
      "metadata": {
        "id": "gP8ULq8HNSvO"
      },
      "source": [
        "### Challenge 3:  Perform model selection on the KNN classifier\n",
        "\n",
        "Use the above dataset to identify and evaluate the best model for this dataset when you are using the K-NN classifier. Explore different parameters for K.\n",
        "\n",
        "1. Report which parameter K gives best result under the cross validation procedure.\n",
        "\n",
        "2. Report the classification accuracy for the optimal parameter using cross validation for model evaluation.\n",
        "\n",
        "3. Report the generalization performance of the optimal model on the holdout dataset."
      ]
    },
    {
      "cell_type": "code",
      "metadata": {
        "id": "XQqS4eR_NWH-"
      },
      "source": [
        "# Use this cell to run cross validation and select the optimial model for KNN classifier\n",
        "# (i.e. the optimal K value \n",
        "from sklearn.neighbors import KNeighborsClassifier\n",
        "from sklearn.model_selection import train_test_split\n",
        "\n",
        "n_splits = 25    \n",
        "n_neighbors = 10   \n",
        "cv = StratifiedKFold(n_splits=n_splits, random_state=0, shuffle=True)\n",
        "\n",
        "kfold_acc = 5.\n",
        "\n",
        "for train_idx, valid_idx in cv.split(X_train, y_train):\n",
        "  model = KNeighborsClassifier(n_neighbors=n_neighbors)\n",
        "  model.fit(X_train[train_idx],y_train[train_idx])\n",
        "  y_pred = model.predict(X_train[valid_idx])\n",
        "  acc_metric = metrics.accuracy_score(y_pred,y_train[valid_idx])\n",
        "  kfold_acc += acc_metric \n",
        "kfold_acc = kfold_acc/n_splits"
      ],
      "execution_count": 13,
      "outputs": []
    },
    {
      "cell_type": "code",
      "metadata": {
        "id": "N6jX2H4gNs5f",
        "colab": {
          "base_uri": "https://localhost:8080/"
        },
        "outputId": "a7ddfe23-2981-41e3-9827-88d341a6a5ee"
      },
      "source": [
        "# Use this cell to calculate and report optimal model parameters and cross validation performance.  \n",
        "model = KNeighborsClassifier(n_neighbors=n_neighbors)\n",
        "model.fit(X_train, y_train)\n",
        "y_pred = model.predict(X_test)\n",
        "test_acc = metrics.accuracy_score(y_pred, y_test)\n",
        "\n",
        "print(\"Cross-validation Accuracy: {:.2f}\".format(kfold_acc))\n",
        "print(\"Test Accuracy: {:.2f}\".format(test_acc))"
      ],
      "execution_count": 17,
      "outputs": [
        {
          "output_type": "stream",
          "name": "stdout",
          "text": [
            "Cross-validation Accuracy: 0.79\n",
            "Test Accuracy: 0.70\n"
          ]
        }
      ]
    },
    {
      "cell_type": "code",
      "metadata": {
        "id": "tBgm22CNNxYA",
        "colab": {
          "base_uri": "https://localhost:8080/"
        },
        "outputId": "42b5f5ae-db2d-499f-8641-40ca2d3142d3"
      },
      "source": [
        "# Use this cell to calculate and report the generalization performance of the optimal model\n",
        "from sklearn.metrics import confusion_matrix,precision_score,accuracy_score,recall_score,f1_score,classification_report\n",
        "cm = confusion_matrix(y_test, y_pred)\n",
        "cm_normalized = cm.astype('float') / cm.sum(axis=1)[:, np.newaxis]\n",
        "ac = accuracy_score(y_test,y_pred)\n",
        "ps = precision_score(y_test, y_pred, average='macro')\n",
        "rs = recall_score(y_test, y_pred, average='macro')\n",
        "f1s = f1_score(y_test, y_pred, average='macro')\n",
        "\n",
        "print('Confusion Matrix:')\n",
        "print(cm)\n",
        "print(' \\n Normalized Confusion Matrix:')\n",
        "print(cm_normalized)\n",
        "print(' \\n Accuracy Score:')\n",
        "print(ac)\n",
        "print(' \\n Precision Score:')\n",
        "print(ps)\n",
        "print(' \\n Recall Score:')\n",
        "print(rs)\n",
        "print(' \\n F1-Score:')\n",
        "print(f1s)"
      ],
      "execution_count": 18,
      "outputs": [
        {
          "output_type": "stream",
          "name": "stdout",
          "text": [
            "Confusion Matrix:\n",
            "[[ 9  6]\n",
            " [ 3 12]]\n",
            " \n",
            " Normalized Confusion Matrix:\n",
            "[[0.6 0.4]\n",
            " [0.2 0.8]]\n",
            " \n",
            " Accuracy Score:\n",
            "0.7\n",
            " \n",
            " Precision Score:\n",
            "0.7083333333333333\n",
            " \n",
            " Recall Score:\n",
            "0.7\n",
            " \n",
            " F1-Score:\n",
            "0.6969696969696968\n"
          ]
        }
      ]
    },
    {
      "cell_type": "markdown",
      "metadata": {
        "id": "faYsnc8WNysX"
      },
      "source": [
        "##  3 Perform model selection on the SVM classifier.\n",
        "Use the above dataset to identify and evaluate the best model for this dataset when you are using the SVM classifier. Explore different parameters for C, gamma and kernel.\n",
        "\n",
        "1. Report which parameter configuration (C, gamma, kernel) gives best result under the cross validation procedure.\n",
        "\n",
        "2. Report the classification accuracy for the optimal parameter using cross validation for model evaluation.\n",
        "\n",
        "3. Report the generalization performance of the optimal model on the holdout dataset."
      ]
    },
    {
      "cell_type": "code",
      "metadata": {
        "id": "i02o_wbxN4lK",
        "colab": {
          "base_uri": "https://localhost:8080/"
        },
        "outputId": "ccaae3c0-034e-4881-9577-8d0599ff3c73"
      },
      "source": [
        "# Use this cell to run cross validation and select the optimial model for SVM classifier\n",
        "# (i.e. the optimal C, gamma, kernal parameter configuration)\n",
        "\n",
        "from sklearn import svm\n",
        "from sklearn.metrics import confusion_matrix,precision_score,accuracy_score,recall_score,f1_score,classification_report \n",
        "model  = svm.SVC(C=1.0,kernel='rbf',gamma='scale')\n",
        "model.fit(X_train,y_train)\n",
        "y_pred= model.predict(X_test)\n",
        "\n",
        "cm = confusion_matrix(y_test, y_pred)\n",
        "cm_normalized = cm.astype('float') / cm.sum(axis=1)[:, np.newaxis]\n",
        "ac = accuracy_score(y_test,y_pred)\n",
        "ps = precision_score(y_test, y_pred, average='macro')\n",
        "rs = recall_score(y_test, y_pred, average='macro')\n",
        "f1s = f1_score(y_test, y_pred, average='macro')\n",
        "print('Confusion Matrix:')\n",
        "print(cm)\n",
        "print(' \\n Normalized Confusion Matrix:')\n",
        "print(cm_normalized)\n",
        "print(' \\n Accuracy Score:')\n",
        "print(ac)\n",
        "print(' \\n Precision Score:')\n",
        "print(ps)\n",
        "print(' \\n Recall Score:')\n",
        "print(rs)\n",
        "print(' \\n F1-Score:')\n",
        "print(f1s)"
      ],
      "execution_count": 19,
      "outputs": [
        {
          "output_type": "stream",
          "name": "stdout",
          "text": [
            "Confusion Matrix:\n",
            "[[11  4]\n",
            " [ 3 12]]\n",
            " \n",
            " Normalized Confusion Matrix:\n",
            "[[0.73333333 0.26666667]\n",
            " [0.2        0.8       ]]\n",
            " \n",
            " Accuracy Score:\n",
            "0.7666666666666667\n",
            " \n",
            " Precision Score:\n",
            "0.7678571428571428\n",
            " \n",
            " Recall Score:\n",
            "0.7666666666666666\n",
            " \n",
            " F1-Score:\n",
            "0.7664071190211346\n"
          ]
        }
      ]
    },
    {
      "cell_type": "code",
      "metadata": {
        "id": "Kk0_X5H-N_ZZ",
        "colab": {
          "base_uri": "https://localhost:8080/"
        },
        "outputId": "9ab21f63-5edc-4e5f-fb30-8cd8c4829834"
      },
      "source": [
        "from sklearn import svm\n",
        "from sklearn.metrics import confusion_matrix,precision_score,accuracy_score,recall_score,f1_score,classification_report \n",
        "model  = svm.SVC(kernel='linear')\n",
        "model.fit(X_train,y_train)\n",
        "y_pred= model.predict(X_test)\n",
        "\n",
        "cm = confusion_matrix(y_test, y_pred)\n",
        "cm_normalized = cm.astype('float') / cm.sum(axis=1)[:, np.newaxis]\n",
        "ac = accuracy_score(y_test,y_pred)\n",
        "ps = precision_score(y_test, y_pred, average='macro')\n",
        "rs = recall_score(y_test, y_pred, average='macro')\n",
        "f1s = f1_score(y_test, y_pred, average='macro')\n",
        "print('Confusion Matrix:')\n",
        "print(cm)\n",
        "print(' \\n Normalized Confusion Matrix:')\n",
        "print(cm_normalized)\n",
        "print(' \\n Accuracy Score:')\n",
        "print(ac)\n",
        "print(' \\n Precision Score:')\n",
        "print(ps)\n",
        "print(' \\n Recall Score:')\n",
        "print(rs)\n",
        "print(' \\n F1-Score:')\n",
        "print(f1s)"
      ],
      "execution_count": 20,
      "outputs": [
        {
          "output_type": "stream",
          "name": "stdout",
          "text": [
            "Confusion Matrix:\n",
            "[[ 5 10]\n",
            " [ 6  9]]\n",
            " \n",
            " Normalized Confusion Matrix:\n",
            "[[0.33333333 0.66666667]\n",
            " [0.4        0.6       ]]\n",
            " \n",
            " Accuracy Score:\n",
            "0.4666666666666667\n",
            " \n",
            " Precision Score:\n",
            "0.46411483253588515\n",
            " \n",
            " Recall Score:\n",
            "0.4666666666666667\n",
            " \n",
            " F1-Score:\n",
            "0.45701357466063347\n"
          ]
        }
      ]
    },
    {
      "cell_type": "markdown",
      "source": [
        "# Use this cell to calculate and report optimal model parameters and cross validation performance. \n",
        "The best performance came from the 'rbf' parameter, with c=1.0 and gamma= 'scale'"
      ],
      "metadata": {
        "id": "JBBfqvPuoUEJ"
      }
    },
    {
      "cell_type": "code",
      "source": [
        "from sklearn import svm\n",
        "from sklearn.metrics import confusion_matrix,precision_score,accuracy_score,recall_score,f1_score,classification_report \n",
        "model  = svm.SVC(C=1.0,kernel='rbf',gamma='scale')\n",
        "model.fit(X_train,y_train)\n",
        "y_pred= model.predict(X_test)\n",
        "\n",
        "cm = confusion_matrix(y_test, y_pred)\n",
        "cm_normalized = cm.astype('float') / cm.sum(axis=1)[:, np.newaxis]\n",
        "ac = accuracy_score(y_test,y_pred)\n",
        "ps = precision_score(y_test, y_pred, average='macro')\n",
        "rs = recall_score(y_test, y_pred, average='macro')\n",
        "f1s = f1_score(y_test, y_pred, average='macro')\n",
        "print('Confusion Matrix:')\n",
        "print(cm)\n",
        "print(' \\n Normalized Confusion Matrix:')\n",
        "print(cm_normalized)\n",
        "print(' \\n Accuracy Score:')\n",
        "print(ac)\n",
        "print(' \\n Precision Score:')\n",
        "print(ps)\n",
        "print(' \\n Recall Score:')\n",
        "print(rs)\n",
        "print(' \\n F1-Score:')\n",
        "print(f1s)"
      ],
      "metadata": {
        "colab": {
          "base_uri": "https://localhost:8080/"
        },
        "id": "7N2Uh0LzoQtO",
        "outputId": "2f82caac-9c18-4edd-d957-47e690ba4e2c"
      },
      "execution_count": 21,
      "outputs": [
        {
          "output_type": "stream",
          "name": "stdout",
          "text": [
            "Confusion Matrix:\n",
            "[[11  4]\n",
            " [ 3 12]]\n",
            " \n",
            " Normalized Confusion Matrix:\n",
            "[[0.73333333 0.26666667]\n",
            " [0.2        0.8       ]]\n",
            " \n",
            " Accuracy Score:\n",
            "0.7666666666666667\n",
            " \n",
            " Precision Score:\n",
            "0.7678571428571428\n",
            " \n",
            " Recall Score:\n",
            "0.7666666666666666\n",
            " \n",
            " F1-Score:\n",
            "0.7664071190211346\n"
          ]
        }
      ]
    },
    {
      "cell_type": "markdown",
      "metadata": {
        "id": "SNUd0xUyUTQ2"
      },
      "source": [
        "Copyright Statement: Copyright © 2020 Christoforou. The materials provided by the instructor of this course, including this notebook, are for the use of the students enrolled in the course. Materials are presented in an educational context for personal use and study and should not be shared, distributed, disseminated or sold in print — or digitally — outside the course without permission. You may not, nor may you knowingly allow others to reproduce or distribute lecture notes, course materials as well as any of their derivatives without the instructor's express written consent"
      ]
    }
  ]
}