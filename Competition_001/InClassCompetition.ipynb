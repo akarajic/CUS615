{
  "nbformat": 4,
  "nbformat_minor": 0,
  "metadata": {
    "colab": {
      "provenance": [],
      "authorship_tag": "ABX9TyNRxAaAyepTU81FcAQx01Fn",
      "include_colab_link": true
    },
    "kernelspec": {
      "name": "python3",
      "display_name": "Python 3"
    },
    "language_info": {
      "name": "python"
    }
  },
  "cells": [
    {
      "cell_type": "markdown",
      "metadata": {
        "id": "view-in-github",
        "colab_type": "text"
      },
      "source": [
        "<a href=\"https://colab.research.google.com/github/akarajic/CUS615/blob/main/Competition_001/InClassCompetition.ipynb\" target=\"_parent\"><img src=\"https://colab.research.google.com/assets/colab-badge.svg\" alt=\"Open In Colab\"/></a>"
      ]
    },
    {
      "cell_type": "code",
      "execution_count": 69,
      "metadata": {
        "id": "DPIT1IbQ354z"
      },
      "outputs": [],
      "source": [
        "import numpy as np\n",
        "import pandas as pd\n",
        "import matplotlib.pylab as plt"
      ]
    },
    {
      "cell_type": "code",
      "source": [
        "training_set = pd.read_csv('train 3.csv')\n",
        "training_set = training_set.dropna()\n",
        "training_set = training_set.drop(['id'], axis=1)\n",
        "test_set = pd.read_csv('test.csv')\n",
        "test_set = test_set.drop(['id'], axis=1)"
      ],
      "metadata": {
        "id": "cinRRzBvDETA"
      },
      "execution_count": 70,
      "outputs": []
    },
    {
      "cell_type": "code",
      "source": [
        "from sklearn.model_selection import train_test_split\n",
        "X_train, X_test, Y_train, Y_test = train_test_split(training_set.drop('Label', axis=1), training_set['Label'], test_size=.25, random_state=42)"
      ],
      "metadata": {
        "id": "sYEosXC3DKgd"
      },
      "execution_count": 71,
      "outputs": []
    },
    {
      "cell_type": "code",
      "source": [
        "from sklearn.neighbors import KNeighborsClassifier \n",
        "KNNmodel  = KNeighborsClassifier(n_neighbors=35)   \n",
        "KNNmodel.fit(X_train,Y_train)         \n",
        "y_validated= KNNmodel.predict(X_test)\n",
        "y_pred= KNNmodel.predict(test_set)   "
      ],
      "metadata": {
        "id": "-8NkkaEjDN51"
      },
      "execution_count": 72,
      "outputs": []
    },
    {
      "cell_type": "code",
      "source": [
        "from sklearn.metrics import confusion_matrix,precision_score,accuracy_score,recall_score,f1_score,classification_report \n",
        "cm = confusion_matrix(Y_test, y_validated)\n",
        "cm_normalized = cm.astype('float') / cm.sum(axis=1)[:, np.newaxis]\n",
        "ac = accuracy_score(Y_test,y_validated)\n",
        "ps = precision_score(Y_test, y_validated, average='macro')\n",
        "rs = recall_score(Y_test, y_validated, average='macro')\n",
        "f1s = f1_score(Y_test, y_validated, average='macro')\n",
        "print('Confusion Matrix:')\n",
        "print(cm)\n",
        "print(' \\n Normalized Confusion Matrix:')\n",
        "print(cm_normalized)\n",
        "print(' \\n Accuracy Score:')\n",
        "print(ac)\n",
        "print(' \\n Precision Score:')\n",
        "print(ps)\n",
        "print(' \\n Recall Score:')\n",
        "print(rs)\n",
        "print(' \\n F1-Score:')\n",
        "print(f1s)\n",
        "     "
      ],
      "metadata": {
        "colab": {
          "base_uri": "https://localhost:8080/"
        },
        "id": "B8EpFAeoDeT2",
        "outputId": "0503c977-a85d-436e-d018-513e186aa13a"
      },
      "execution_count": 73,
      "outputs": [
        {
          "output_type": "stream",
          "name": "stdout",
          "text": [
            "Confusion Matrix:\n",
            "[[156  18   1]\n",
            " [ 24 123  17]\n",
            " [  1   7 149]]\n",
            " \n",
            " Normalized Confusion Matrix:\n",
            "[[0.89142857 0.10285714 0.00571429]\n",
            " [0.14634146 0.75       0.10365854]\n",
            " [0.00636943 0.04458599 0.94904459]]\n",
            " \n",
            " Accuracy Score:\n",
            "0.8629032258064516\n",
            " \n",
            " Precision Score:\n",
            "0.8617250343273435\n",
            " \n",
            " Recall Score:\n",
            "0.8634910524719442\n",
            " \n",
            " F1-Score:\n",
            "0.8615397064211047\n"
          ]
        }
      ]
    },
    {
      "cell_type": "code",
      "source": [
        "from sklearn.metrics import accuracy_score\n",
        "import numpy as np\n",
        "sample = pd.read_csv('sample_submission.csv')\n",
        "sample = sample\n",
        "sample['Label'] = y_pred\n",
        "Label = np.array(sample['Label'])\n",
        "\n",
        "print(sample)\n",
        "sample.to_csv(r'sample.csv', index=False, header=True)"
      ],
      "metadata": {
        "colab": {
          "base_uri": "https://localhost:8080/"
        },
        "id": "5zx2jz_mG0ZA",
        "outputId": "dadbf4d9-ead1-42f1-ed48-c747acd180eb"
      },
      "execution_count": 74,
      "outputs": [
        {
          "output_type": "stream",
          "name": "stdout",
          "text": [
            "       id  Label\n",
            "0       4      2\n",
            "1       6      2\n",
            "2      12      2\n",
            "3      18      0\n",
            "4      22      0\n",
            "..    ...    ...\n",
            "491  2465      1\n",
            "492  2466      1\n",
            "493  2470      0\n",
            "494  2471      1\n",
            "495  2477      2\n",
            "\n",
            "[496 rows x 2 columns]\n"
          ]
        }
      ]
    },
    {
      "cell_type": "code",
      "source": [
        "print(y_pred)"
      ],
      "metadata": {
        "colab": {
          "base_uri": "https://localhost:8080/"
        },
        "id": "yXfHAuTtYjtm",
        "outputId": "d2865980-4592-47e9-c945-ee36890aa23f"
      },
      "execution_count": 75,
      "outputs": [
        {
          "output_type": "stream",
          "name": "stdout",
          "text": [
            "[2 2 2 0 0 2 2 0 0 0 1 2 1 0 2 1 1 0 0 0 2 0 1 2 1 0 0 0 0 1 2 0 2 1 1 0 1\n",
            " 0 2 0 2 1 0 2 2 2 2 2 2 0 0 1 1 1 0 0 1 2 2 1 1 0 2 2 0 0 2 1 2 1 1 2 0 0\n",
            " 1 2 1 2 0 0 2 2 2 2 1 2 2 2 0 2 1 1 2 0 0 1 1 2 0 2 0 0 0 1 1 2 0 0 0 2 1\n",
            " 0 0 2 1 2 2 1 2 2 0 2 2 0 0 0 2 2 1 0 1 0 0 2 2 0 2 2 0 2 1 2 1 1 2 2 2 0\n",
            " 0 1 2 2 0 1 0 1 2 0 1 0 0 2 2 0 1 0 0 2 0 1 1 1 1 0 2 2 1 0 2 0 1 1 0 1 2\n",
            " 1 0 0 2 2 1 0 2 1 2 0 2 1 2 0 2 1 2 1 2 1 0 0 2 2 0 2 2 0 2 1 2 0 1 0 2 1\n",
            " 1 1 1 2 2 1 0 2 0 0 2 0 2 1 1 2 2 0 1 0 1 2 0 0 0 1 0 2 0 2 1 2 0 0 0 2 1\n",
            " 2 2 2 1 0 2 0 2 2 1 1 0 1 2 1 1 1 2 2 2 0 0 2 1 1 0 1 2 2 0 2 1 1 0 1 2 1\n",
            " 1 2 1 0 2 2 1 1 0 0 0 0 2 0 1 0 0 0 1 1 0 2 1 0 0 0 0 1 1 2 2 2 0 0 1 2 0\n",
            " 2 1 1 2 2 0 2 0 2 0 0 2 0 2 1 0 1 1 2 1 0 2 1 2 1 2 2 1 2 1 2 0 2 1 1 1 2\n",
            " 2 2 0 0 1 0 1 2 0 2 1 1 1 1 2 1 1 0 2 0 1 1 0 0 2 2 2 1 0 1 0 0 0 1 0 2 2\n",
            " 0 0 2 1 2 0 0 2 1 2 0 0 0 2 2 2 2 0 1 1 0 0 1 1 1 2 0 2 0 0 1 0 2 1 0 0 0\n",
            " 1 0 0 2 0 1 0 2 0 1 2 1 0 2 0 2 0 0 0 1 2 0 1 1 1 0 0 0 0 0 0 0 0 2 2 2 0\n",
            " 0 1 1 2 1 1 2 0 0 0 1 1 0 1 2]\n"
          ]
        }
      ]
    }
  ]
}