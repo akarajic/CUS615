{
  "nbformat": 4,
  "nbformat_minor": 0,
  "metadata": {
    "colab": {
      "provenance": [],
      "include_colab_link": true
    },
    "kernelspec": {
      "name": "python3",
      "display_name": "Python 3"
    }
  },
  "cells": [
    {
      "cell_type": "markdown",
      "metadata": {
        "id": "view-in-github",
        "colab_type": "text"
      },
      "source": [
        "<a href=\"https://colab.research.google.com/github/akarajic/CUS615/blob/main/ProblemSet3/Problem_set_03_SVM_Classifer.ipynb\" target=\"_parent\"><img src=\"https://colab.research.google.com/assets/colab-badge.svg\" alt=\"Open In Colab\"/></a>"
      ]
    },
    {
      "cell_type": "markdown",
      "metadata": {
        "id": "KlswIWYJfW9T"
      },
      "source": [
        "This notebook is part of Dr. Christoforos Christoforou's course materials. You may not, nor may you knowingly allow others to reproduce or distribute lecture notes, course materials or any of their derivatives without the instructor's express written consent."
      ]
    },
    {
      "cell_type": "markdown",
      "metadata": {
        "id": "mGWGpILX6Caz"
      },
      "source": [
        "# Problem Set 03 - Support Vector Machines Classifiers\n",
        "**Professor:** Dr. Christoforos Christoforou\n",
        "\n",
        "For this problem set you will need the following libraries, which are pre-installed with the colab environment: \n",
        "\n",
        "* [Numpy](https://www.numpy.org/) is an array manipulation library, used for linear algebra, Fourier transform, and random number capabilities.\n",
        "* [Pandas](https://pandas.pydata.org/) is a library for data manipulation and data analysis.\n",
        "* [Matplotlib](https://matplotlib.org/) is a library which generates figures and provides graphical user interface toolkit.\n",
        "\n",
        "You can load them using the following import statement:"
      ]
    },
    {
      "cell_type": "code",
      "metadata": {
        "id": "m5xcgMf35rfn"
      },
      "source": [
        "import numpy as np\n",
        "import pandas as pd\n",
        "import matplotlib.pylab as plt"
      ],
      "execution_count": 19,
      "outputs": []
    },
    {
      "cell_type": "markdown",
      "metadata": {
        "id": "Kmj0HPwPuohO"
      },
      "source": [
        "## 1. Objective \n",
        "As part of this problem set, you will expore work on the `wine quality dataset`  in order to: \n",
        "- To explore the physiocochemical properties of red wine\n",
        "- To determine an optimal machine learning model for red wine quality classification\n",
        "\n",
        "For that, you will be using an `instance-based` classifier, namely K-NN algorithm. Review the information provided in the problem set, and complete all challenges listed.  "
      ]
    },
    {
      "cell_type": "markdown",
      "metadata": {
        "id": "mSJ_VpGu6XWz"
      },
      "source": [
        "## 2. Wine Quality Dataset - Data Description\n",
        "\n",
        "For this dataset you will be using the `wine quality dataset`. Below is a description of the various parameters listed in that dataset (i.e. potential features):\n",
        "\n",
        "* fixed.acidity (tartaric acid - g / dm^3): most acids involved with wine or fixed or nonvolatile (do not evaporate readily) \n",
        "* volatile.acidity (acetic acid - g / dm^3): the amount of acetic acid in wine, which at too high of levels can lead to an unpleasant, vinegar taste \n",
        "* citric.acid (g / dm^3): the amount of acetic acid in wine, which at too high of levels can lead to an unpleasant, vinegar taste \n",
        "* residual.sugar (g / dm^3): the amount of sugar remaining after fermentation stops, it's rare to find wines with less than 1 gram/liter and wines with greater than 45 grams/liter are considered sweet \n",
        "* chlorides (sodium chloride - g / dm^3): the amount of salt in the wine \n",
        "* free.sulfur.dioxide (mg / dm^3): the free form of SO2 exists in equilibrium between molecular SO2 (as a dissolved gas) and bisulfite ion; it prevents microbial growth and the oxidation of wine \n",
        "* total.sulfur.dioxide (mg / dm^3): amount of free and bound forms of S02; in low concentrations, SO2 is mostly undetectable in wine, but at free SO2 concentrations over 50 ppm, SO2 becomes evident in the nose and taste of wine \n",
        "* density (g / cm^3): the density of water is close to that of water depending on the percent alcohol and sugar content \n",
        "* pH: describes how acidic or basic a wine is on a scale from 0 (very acidic) to 14 (very basic); most wines are between 3-4 on the pH scale \n",
        "* sulphates (potassium sulphate - g / dm3): a wine additive which can contribute to sulfur dioxide gas (S02) levels, wich acts as an antimicrobial and antioxidant \n",
        "* alcohol (% by volume): the percent alcohol content of the wine \n",
        "* quality: quality score between 0 and 10\n",
        "\n"
      ]
    },
    {
      "cell_type": "markdown",
      "metadata": {
        "id": "wzcCUgaNwHMx"
      },
      "source": [
        "## Download dataset from kaggle\n",
        "You will use the Kaggle CLI to dowload the `Wine Quality Dataset` to your colab enviroment. You will need to upload your kaggle API (see problem_set 01 for direction on how to obtain your API key. "
      ]
    },
    {
      "cell_type": "code",
      "metadata": {
        "id": "c9GUkdufxKJn"
      },
      "source": [
        "# install kaggle CLI\n",
        "!pip install -q kaggle"
      ],
      "execution_count": 20,
      "outputs": []
    },
    {
      "cell_type": "code",
      "metadata": {
        "id": "nyyNV2x_xP7l",
        "colab": {
          "base_uri": "https://localhost:8080/",
          "height": 92
        },
        "outputId": "a9d30255-65ee-4521-f38b-eb2539a59890"
      },
      "source": [
        "# Upload the kaggle API key of your account \n",
        "from google.colab import files \n",
        "files.upload()\n",
        "!mkdir ~/.kaggle\n",
        "!cp kaggle.json ~/.kaggle\n",
        "!chmod 600 ~/.kaggle/kaggle.json"
      ],
      "execution_count": 21,
      "outputs": [
        {
          "output_type": "display_data",
          "data": {
            "text/plain": [
              "<IPython.core.display.HTML object>"
            ],
            "text/html": [
              "\n",
              "     <input type=\"file\" id=\"files-70b1fb8b-7ee4-47c6-af58-1a8bf5b6ff2b\" name=\"files[]\" multiple disabled\n",
              "        style=\"border:none\" />\n",
              "     <output id=\"result-70b1fb8b-7ee4-47c6-af58-1a8bf5b6ff2b\">\n",
              "      Upload widget is only available when the cell has been executed in the\n",
              "      current browser session. Please rerun this cell to enable.\n",
              "      </output>\n",
              "      <script>// Copyright 2017 Google LLC\n",
              "//\n",
              "// Licensed under the Apache License, Version 2.0 (the \"License\");\n",
              "// you may not use this file except in compliance with the License.\n",
              "// You may obtain a copy of the License at\n",
              "//\n",
              "//      http://www.apache.org/licenses/LICENSE-2.0\n",
              "//\n",
              "// Unless required by applicable law or agreed to in writing, software\n",
              "// distributed under the License is distributed on an \"AS IS\" BASIS,\n",
              "// WITHOUT WARRANTIES OR CONDITIONS OF ANY KIND, either express or implied.\n",
              "// See the License for the specific language governing permissions and\n",
              "// limitations under the License.\n",
              "\n",
              "/**\n",
              " * @fileoverview Helpers for google.colab Python module.\n",
              " */\n",
              "(function(scope) {\n",
              "function span(text, styleAttributes = {}) {\n",
              "  const element = document.createElement('span');\n",
              "  element.textContent = text;\n",
              "  for (const key of Object.keys(styleAttributes)) {\n",
              "    element.style[key] = styleAttributes[key];\n",
              "  }\n",
              "  return element;\n",
              "}\n",
              "\n",
              "// Max number of bytes which will be uploaded at a time.\n",
              "const MAX_PAYLOAD_SIZE = 100 * 1024;\n",
              "\n",
              "function _uploadFiles(inputId, outputId) {\n",
              "  const steps = uploadFilesStep(inputId, outputId);\n",
              "  const outputElement = document.getElementById(outputId);\n",
              "  // Cache steps on the outputElement to make it available for the next call\n",
              "  // to uploadFilesContinue from Python.\n",
              "  outputElement.steps = steps;\n",
              "\n",
              "  return _uploadFilesContinue(outputId);\n",
              "}\n",
              "\n",
              "// This is roughly an async generator (not supported in the browser yet),\n",
              "// where there are multiple asynchronous steps and the Python side is going\n",
              "// to poll for completion of each step.\n",
              "// This uses a Promise to block the python side on completion of each step,\n",
              "// then passes the result of the previous step as the input to the next step.\n",
              "function _uploadFilesContinue(outputId) {\n",
              "  const outputElement = document.getElementById(outputId);\n",
              "  const steps = outputElement.steps;\n",
              "\n",
              "  const next = steps.next(outputElement.lastPromiseValue);\n",
              "  return Promise.resolve(next.value.promise).then((value) => {\n",
              "    // Cache the last promise value to make it available to the next\n",
              "    // step of the generator.\n",
              "    outputElement.lastPromiseValue = value;\n",
              "    return next.value.response;\n",
              "  });\n",
              "}\n",
              "\n",
              "/**\n",
              " * Generator function which is called between each async step of the upload\n",
              " * process.\n",
              " * @param {string} inputId Element ID of the input file picker element.\n",
              " * @param {string} outputId Element ID of the output display.\n",
              " * @return {!Iterable<!Object>} Iterable of next steps.\n",
              " */\n",
              "function* uploadFilesStep(inputId, outputId) {\n",
              "  const inputElement = document.getElementById(inputId);\n",
              "  inputElement.disabled = false;\n",
              "\n",
              "  const outputElement = document.getElementById(outputId);\n",
              "  outputElement.innerHTML = '';\n",
              "\n",
              "  const pickedPromise = new Promise((resolve) => {\n",
              "    inputElement.addEventListener('change', (e) => {\n",
              "      resolve(e.target.files);\n",
              "    });\n",
              "  });\n",
              "\n",
              "  const cancel = document.createElement('button');\n",
              "  inputElement.parentElement.appendChild(cancel);\n",
              "  cancel.textContent = 'Cancel upload';\n",
              "  const cancelPromise = new Promise((resolve) => {\n",
              "    cancel.onclick = () => {\n",
              "      resolve(null);\n",
              "    };\n",
              "  });\n",
              "\n",
              "  // Wait for the user to pick the files.\n",
              "  const files = yield {\n",
              "    promise: Promise.race([pickedPromise, cancelPromise]),\n",
              "    response: {\n",
              "      action: 'starting',\n",
              "    }\n",
              "  };\n",
              "\n",
              "  cancel.remove();\n",
              "\n",
              "  // Disable the input element since further picks are not allowed.\n",
              "  inputElement.disabled = true;\n",
              "\n",
              "  if (!files) {\n",
              "    return {\n",
              "      response: {\n",
              "        action: 'complete',\n",
              "      }\n",
              "    };\n",
              "  }\n",
              "\n",
              "  for (const file of files) {\n",
              "    const li = document.createElement('li');\n",
              "    li.append(span(file.name, {fontWeight: 'bold'}));\n",
              "    li.append(span(\n",
              "        `(${file.type || 'n/a'}) - ${file.size} bytes, ` +\n",
              "        `last modified: ${\n",
              "            file.lastModifiedDate ? file.lastModifiedDate.toLocaleDateString() :\n",
              "                                    'n/a'} - `));\n",
              "    const percent = span('0% done');\n",
              "    li.appendChild(percent);\n",
              "\n",
              "    outputElement.appendChild(li);\n",
              "\n",
              "    const fileDataPromise = new Promise((resolve) => {\n",
              "      const reader = new FileReader();\n",
              "      reader.onload = (e) => {\n",
              "        resolve(e.target.result);\n",
              "      };\n",
              "      reader.readAsArrayBuffer(file);\n",
              "    });\n",
              "    // Wait for the data to be ready.\n",
              "    let fileData = yield {\n",
              "      promise: fileDataPromise,\n",
              "      response: {\n",
              "        action: 'continue',\n",
              "      }\n",
              "    };\n",
              "\n",
              "    // Use a chunked sending to avoid message size limits. See b/62115660.\n",
              "    let position = 0;\n",
              "    do {\n",
              "      const length = Math.min(fileData.byteLength - position, MAX_PAYLOAD_SIZE);\n",
              "      const chunk = new Uint8Array(fileData, position, length);\n",
              "      position += length;\n",
              "\n",
              "      const base64 = btoa(String.fromCharCode.apply(null, chunk));\n",
              "      yield {\n",
              "        response: {\n",
              "          action: 'append',\n",
              "          file: file.name,\n",
              "          data: base64,\n",
              "        },\n",
              "      };\n",
              "\n",
              "      let percentDone = fileData.byteLength === 0 ?\n",
              "          100 :\n",
              "          Math.round((position / fileData.byteLength) * 100);\n",
              "      percent.textContent = `${percentDone}% done`;\n",
              "\n",
              "    } while (position < fileData.byteLength);\n",
              "  }\n",
              "\n",
              "  // All done.\n",
              "  yield {\n",
              "    response: {\n",
              "      action: 'complete',\n",
              "    }\n",
              "  };\n",
              "}\n",
              "\n",
              "scope.google = scope.google || {};\n",
              "scope.google.colab = scope.google.colab || {};\n",
              "scope.google.colab._files = {\n",
              "  _uploadFiles,\n",
              "  _uploadFilesContinue,\n",
              "};\n",
              "})(self);\n",
              "</script> "
            ]
          },
          "metadata": {}
        },
        {
          "output_type": "stream",
          "name": "stdout",
          "text": [
            "Saving kaggle.json to kaggle (1).json\n",
            "mkdir: cannot create directory ‘/root/.kaggle’: File exists\n"
          ]
        }
      ]
    },
    {
      "cell_type": "code",
      "metadata": {
        "id": "UF7BNWDK3Djt",
        "colab": {
          "base_uri": "https://localhost:8080/"
        },
        "outputId": "251709e5-3003-4bae-df39-8e5bc02db097"
      },
      "source": [
        "# View list of data files available in the dataset. \n",
        "# Format : kaggle dataset files <dataset-URI>\n",
        "!kaggle datasets files cchristoforou/practice-dataset-for-tutorials"
      ],
      "execution_count": 22,
      "outputs": [
        {
          "output_type": "stream",
          "name": "stdout",
          "text": [
            "name                      size  creationDate         \n",
            "-----------------------  -----  -------------------  \n",
            "wine.data                 11KB  2021-02-25 21:48:50  \n",
            "country_total.csv        533KB  2021-02-25 21:48:50  \n",
            "countries.csv              2KB  2021-02-25 21:48:50  \n",
            "dataset_37_diabetes.csv   33KB  2021-02-25 21:48:50  \n",
            "wineQualityReds.csv       92KB  2021-02-25 21:48:50  \n"
          ]
        }
      ]
    },
    {
      "cell_type": "code",
      "metadata": {
        "id": "2_ZTFa7Zxa3V"
      },
      "source": [
        "# Download - Specify the parameters.  \n",
        "kaggle_dataset_URI = \"cchristoforou/practice-dataset-for-tutorials\"\n",
        "output_folder = \"sample_data/problem_set02\"\n",
        "kaggle_data_file1 = \"wineQualityReds.csv\""
      ],
      "execution_count": 23,
      "outputs": []
    },
    {
      "cell_type": "code",
      "metadata": {
        "id": "oXbCHcmaxdvc",
        "colab": {
          "base_uri": "https://localhost:8080/"
        },
        "outputId": "57273e47-4071-45bf-d5a0-469b6cd9bc55"
      },
      "source": [
        "# Download the first file from dataset - countries.csv\n",
        "!kaggle datasets download $kaggle_dataset_URI --file $kaggle_data_file1 --path $output_folder \n"
      ],
      "execution_count": 24,
      "outputs": [
        {
          "output_type": "stream",
          "name": "stdout",
          "text": [
            "wineQualityReds.csv: Skipping, found more recently modified local copy (use --force to force download)\n"
          ]
        }
      ]
    },
    {
      "cell_type": "markdown",
      "metadata": {
        "id": "8NK7aOGa3mEO"
      },
      "source": [
        "## Load the data \n",
        "The code below showcase how to load the data in a pandas `DataFrame` and apply a train_test_split on the data. "
      ]
    },
    {
      "cell_type": "code",
      "metadata": {
        "id": "VfqI0GwY3puP"
      },
      "source": [
        "# Code to load the data from file. Here we use the pandas library to read the csv file. \n",
        "datafile = \"./sample_data/problem_set02/wineQualityReds.csv\"\n",
        "wine_df = pd.read_csv(datafile)\n",
        "wine_df.drop(wine_df.columns[0],axis=1,inplace=True)"
      ],
      "execution_count": 25,
      "outputs": []
    },
    {
      "cell_type": "code",
      "metadata": {
        "id": "mFY7dC6b3-4j"
      },
      "source": [
        "# Split the data into a training and testing set using the sklearn function train_test_split\n",
        "# Notice that \n",
        "from sklearn.model_selection import train_test_split\n",
        "X_train, X_test, y_train, y_test = train_test_split(wine_df.drop('quality',axis=1), wine_df['quality'], test_size=.25, random_state=42)\n"
      ],
      "execution_count": 26,
      "outputs": []
    },
    {
      "cell_type": "markdown",
      "metadata": {
        "id": "gA3vk26dYXC2"
      },
      "source": [
        "## Challenge 1\n",
        "Use the variables `X_train`, `X_test`, `y_train`, and `y_test` to explore your data. In particular, calculate and display the following information.\n",
        "\n",
        "* Number of samples in the training set in total and in each class.\n",
        "* Number of samples in the testing set in total and in each class.\n",
        "* Number of features in the dataset. \n",
        "* Number of classes in the dataset.\n",
        "* IDs of the number of classes.\n"
      ]
    },
    {
      "cell_type": "code",
      "metadata": {
        "id": "iiXoK_qwYXC3",
        "colab": {
          "base_uri": "https://localhost:8080/"
        },
        "outputId": "f6f8577e-5341-494e-e5b8-99e41dfcebf0"
      },
      "source": [
        "import numpy as np\n",
        "print(X_train.shape)\n",
        "print('There are 1199 rows and 11 columns in the x_train class')\n",
        "print(X_test.shape)\n",
        "print('There are 400 rows and 11 columns in the x_test class')\n",
        "print(y_train.shape)\n",
        "print('There are 1199 rows in the y_train class')\n",
        "print(y_test.shape)\n",
        "print('There are 400 rows in the y_test class')\n",
        "print('There are 119 samples in the training set in total and 400 samples in the testing set in total')\n",
        "\n",
        "print('There are 11 features in the x_train and x_test classes. They are: ')\n",
        "print(X_train.columns)\n",
        "\n",
        "print(X_train.value_counts())\n",
        "print(X_test.value_counts())\n",
        "print(y_train.value_counts())\n",
        "print(y_test.value_counts())"
      ],
      "execution_count": 27,
      "outputs": [
        {
          "output_type": "stream",
          "name": "stdout",
          "text": [
            "(1199, 11)\n",
            "There are 1199 rows and 11 columns in the x_train class\n",
            "(400, 11)\n",
            "There are 400 rows and 11 columns in the x_test class\n",
            "(1199,)\n",
            "There are 1199 rows in the y_train class\n",
            "(400,)\n",
            "There are 400 rows in the y_test class\n",
            "There are 119 samples in the training set in total and 400 samples in the testing set in total\n",
            "There are 11 features in the x_train and x_test classes. They are: \n",
            "Index(['fixed.acidity', 'volatile.acidity', 'citric.acid', 'residual.sugar',\n",
            "       'chlorides', 'free.sulfur.dioxide', 'total.sulfur.dioxide', 'density',\n",
            "       'pH', 'sulphates', 'alcohol'],\n",
            "      dtype='object')\n",
            "fixed.acidity  volatile.acidity  citric.acid  residual.sugar  chlorides  free.sulfur.dioxide  total.sulfur.dioxide  density  pH    sulphates  alcohol\n",
            "7.0            0.69              0.07         2.5             0.091      15.0                 21.0                  0.99572  3.38  0.60       11.3       3\n",
            "9.3            0.36              0.39         1.5             0.080      41.0                 55.0                  0.99652  3.47  0.73       10.9       3\n",
            "9.9            0.54              0.45         2.3             0.071      16.0                 40.0                  0.99910  3.39  0.62       9.4        3\n",
            "7.5            0.51              0.02         1.7             0.084      13.0                 31.0                  0.99538  3.36  0.54       10.5       3\n",
            "6.7            0.46              0.24         1.7             0.077      18.0                 34.0                  0.99480  3.39  0.60       10.6       3\n",
            "                                                                                                                                                        ..\n",
            "7.5            0.55              0.24         2.0             0.078      10.0                 28.0                  0.99830  3.45  0.78       9.5        1\n",
            "               0.57              0.08         2.6             0.089      14.0                 27.0                  0.99592  3.30  0.59       10.4       1\n",
            "               0.58              0.03         4.1             0.080      27.0                 46.0                  0.99592  3.02  0.47       9.2        1\n",
            "                                 0.14         2.2             0.077      27.0                 60.0                  0.99630  3.28  0.59       9.8        1\n",
            "15.9           0.36              0.65         7.5             0.096      22.0                 71.0                  0.99760  2.98  0.84       14.9       1\n",
            "Length: 1051, dtype: int64\n",
            "fixed.acidity  volatile.acidity  citric.acid  residual.sugar  chlorides  free.sulfur.dioxide  total.sulfur.dioxide  density  pH    sulphates  alcohol\n",
            "8.3            0.260             0.42         2.00            0.080      11.0                 27.0                  0.99740  3.21  0.80       9.4        3\n",
            "7.2            0.360             0.46         2.10            0.074      24.0                 44.0                  0.99534  3.40  0.85       11.0       3\n",
            "7.1            0.600             0.00         1.80            0.074      16.0                 34.0                  0.99720  3.47  0.70       9.9        2\n",
            "9.1            0.220             0.24         2.10            0.078      1.0                  28.0                  0.99900  3.41  0.87       10.3       2\n",
            "11.5           0.180             0.51         4.00            0.104      4.0                  23.0                  0.99960  3.28  0.97       10.1       2\n",
            "                                                                                                                                                        ..\n",
            "7.3            0.320             0.23         2.30            0.066      35.0                 70.0                  0.99588  3.43  0.62       10.1       1\n",
            "7.2            0.835             0.00         2.00            0.166      4.0                  11.0                  0.99608  3.39  0.52       10.0       1\n",
            "               0.725             0.05         4.65            0.086      4.0                  11.0                  0.99620  3.41  0.39       10.9       1\n",
            "               0.695             0.13         2.00            0.076      12.0                 20.0                  0.99546  3.29  0.54       10.1       1\n",
            "15.5           0.645             0.49         4.20            0.095      10.0                 23.0                  1.00315  2.92  0.74       11.1       1\n",
            "Length: 382, dtype: int64\n",
            "5    517\n",
            "6    469\n",
            "7    151\n",
            "4     40\n",
            "8     13\n",
            "3      9\n",
            "Name: quality, dtype: int64\n",
            "6    169\n",
            "5    164\n",
            "7     48\n",
            "4     13\n",
            "8      5\n",
            "3      1\n",
            "Name: quality, dtype: int64\n"
          ]
        }
      ]
    },
    {
      "cell_type": "markdown",
      "metadata": {
        "id": "AiI3psnpYXC7"
      },
      "source": [
        "# Challenge 2\n",
        "\n",
        "Train a **SVM** classifier using the `(X_train,y_train)` dataset and use the trained model to predict the underlying classes for the observations in the test dataset `X_test`. Store your prediction in a variable called `y_pred`."
      ]
    },
    {
      "cell_type": "code",
      "metadata": {
        "id": "DqyJrw2vYXC9",
        "colab": {
          "base_uri": "https://localhost:8080/"
        },
        "outputId": "1106511f-f167-4f00-e38f-25b14faf2e8b"
      },
      "source": [
        "# Your solution \n",
        "from sklearn import svm\n",
        "model  = svm.SVC(kernel='linear')\n",
        "model.fit(X_train,y_train)\n",
        "y_pred= model.predict(X_test)\n",
        "print(y_pred)\n"
      ],
      "execution_count": 28,
      "outputs": [
        {
          "output_type": "stream",
          "name": "stdout",
          "text": [
            "[5 5 6 5 6 5 5 5 5 6 6 5 5 5 5 6 5 5 6 5 5 5 6 6 5 5 6 5 5 6 5 5 6 5 5 5 6\n",
            " 6 5 6 5 5 6 5 6 6 6 5 5 6 5 5 6 6 5 5 6 5 6 5 5 6 5 5 6 5 6 5 6 5 6 5 6 6\n",
            " 6 5 6 6 6 6 5 6 5 6 6 6 5 6 6 5 6 5 6 6 5 5 5 6 5 5 5 5 6 6 5 6 5 5 6 5 6\n",
            " 5 6 5 6 6 6 5 5 6 6 5 6 5 5 5 6 6 6 6 6 5 5 6 6 5 5 5 5 6 6 6 6 6 6 5 6 5\n",
            " 6 5 6 6 5 6 6 6 5 6 5 6 6 6 6 5 5 6 5 5 5 5 5 5 6 5 5 6 6 5 5 5 5 6 5 6 5\n",
            " 6 6 6 6 5 6 6 6 6 6 5 5 5 5 6 5 5 5 5 6 6 5 5 5 6 6 5 6 6 6 6 5 5 6 5 5 6\n",
            " 6 6 5 5 5 6 5 5 5 5 6 6 6 6 5 6 5 5 5 5 6 6 5 5 6 5 6 5 6 6 5 5 5 5 5 6 6\n",
            " 6 6 6 5 6 6 6 5 5 6 6 5 6 5 5 5 5 6 6 6 5 6 5 5 5 5 6 5 6 5 6 5 6 5 5 5 6\n",
            " 5 6 6 6 5 5 6 5 5 5 6 6 6 6 6 6 5 5 5 6 5 5 6 5 6 6 6 5 5 5 6 6 5 6 6 6 5\n",
            " 5 5 6 6 6 5 5 6 6 6 5 6 5 6 5 6 6 5 6 5 5 6 6 5 5 5 6 6 5 5 6 5 6 6 5 5 5\n",
            " 5 5 6 6 5 6 5 6 5 5 5 6 6 5 6 6 6 5 5 6 5 6 5 5 6 6 6 5 5 6]\n"
          ]
        }
      ]
    },
    {
      "cell_type": "markdown",
      "metadata": {
        "id": "dXzRoS9zYXDA"
      },
      "source": [
        "# Challenge 3\n",
        "\n",
        "Evaluate the performance of your classifier. Calculate and display the following:\n",
        "* print the `confusion matrix`.\n",
        "* `normalized confusion matrix`. \n",
        "* the probablitity of correct classification (accuracy score). \n",
        "* the `precision`, `recall`, and `f1-score` for each class."
      ]
    },
    {
      "cell_type": "code",
      "metadata": {
        "id": "KLY8dmj9YXDB",
        "colab": {
          "base_uri": "https://localhost:8080/"
        },
        "outputId": "47416f0a-2a0a-4039-a089-a8b08a62b5a1"
      },
      "source": [
        "from sklearn.metrics import confusion_matrix,precision_score,accuracy_score,recall_score,f1_score,classification_report \n",
        "cm = confusion_matrix(y_test, y_pred)\n",
        "cm_normalized = cm.astype('float') / cm.sum(axis=1)[:, np.newaxis]\n",
        "ac = accuracy_score(y_test,y_pred)\n",
        "ps = precision_score(y_test, y_pred, average='macro')\n",
        "rs = recall_score(y_test, y_pred, average='macro')\n",
        "f1s = f1_score(y_test, y_pred, average='macro')\n",
        "print('Confusion Matrix:')\n",
        "print(cm)\n",
        "print(' \\n Normalized Confusion Matrix:')\n",
        "print(cm_normalized)\n",
        "print(' \\n Accuracy Score:')\n",
        "print(ac)\n",
        "print(' \\n Precision Score:')\n",
        "print(ps)\n",
        "print(' \\n Recall Score:')\n",
        "print(rs)\n",
        "print(' \\n F1-Score:')\n",
        "print(f1s)"
      ],
      "execution_count": 29,
      "outputs": [
        {
          "output_type": "stream",
          "name": "stdout",
          "text": [
            "Confusion Matrix:\n",
            "[[  0   0   1   0   0   0]\n",
            " [  0   0  10   3   0   0]\n",
            " [  0   0 125  39   0   0]\n",
            " [  0   0  66 103   0   0]\n",
            " [  0   0   3  45   0   0]\n",
            " [  0   0   0   5   0   0]]\n",
            " \n",
            " Normalized Confusion Matrix:\n",
            "[[0.         0.         1.         0.         0.         0.        ]\n",
            " [0.         0.         0.76923077 0.23076923 0.         0.        ]\n",
            " [0.         0.         0.76219512 0.23780488 0.         0.        ]\n",
            " [0.         0.         0.39053254 0.60946746 0.         0.        ]\n",
            " [0.         0.         0.0625     0.9375     0.         0.        ]\n",
            " [0.         0.         0.         1.         0.         0.        ]]\n",
            " \n",
            " Accuracy Score:\n",
            "0.57\n",
            " \n",
            " Precision Score:\n",
            "0.18966020429435063\n",
            " \n",
            " Recall Score:\n",
            "0.22861042959542022\n",
            " \n",
            " F1-Score:\n",
            "0.20724014016696943\n"
          ]
        },
        {
          "output_type": "stream",
          "name": "stderr",
          "text": [
            "/usr/local/lib/python3.8/dist-packages/sklearn/metrics/_classification.py:1318: UndefinedMetricWarning: Precision is ill-defined and being set to 0.0 in labels with no predicted samples. Use `zero_division` parameter to control this behavior.\n",
            "  _warn_prf(average, modifier, msg_start, len(result))\n"
          ]
        }
      ]
    },
    {
      "cell_type": "markdown",
      "metadata": {
        "id": "nyzhOmHmfJdw"
      },
      "source": []
    },
    {
      "cell_type": "markdown",
      "metadata": {
        "id": "tISC_CuuYXDE"
      },
      "source": [
        "# Challenge 4\n",
        "\n",
        "The code below loads the same dataset, but treats it as a binary classification problem. That is, instead of classifying an observation into one of 10 categories (0..10), we consider all observations with score above 5 as being good and all observation below or equal to five as being bad.\n",
        "\n",
        "\n",
        "\n"
      ]
    },
    {
      "cell_type": "code",
      "metadata": {
        "id": "OOknQCteYXDG"
      },
      "source": [
        "# Code to load the data from file. Here we use the pandas library to read the csv file. \n",
        "datafile = \"./sample_data/problem_set02/wineQualityReds.csv\"\n",
        "wine_df = pd.read_csv(datafile)\n",
        "wine_df.drop(wine_df.columns[0],axis=1,inplace=True)\n",
        "\n",
        "wine_df['quality'] = np.where(wine_df['quality']>5,\"Good\",\"Bad\")"
      ],
      "execution_count": 30,
      "outputs": []
    },
    {
      "cell_type": "code",
      "metadata": {
        "id": "lbQmpDuKYXDJ"
      },
      "source": [
        "X_train, X_test, y_train, y_test = train_test_split(wine_df.drop('quality',axis=1), wine_df['quality'], test_size=.25, random_state=42)\n"
      ],
      "execution_count": 31,
      "outputs": []
    },
    {
      "cell_type": "markdown",
      "metadata": {
        "id": "6j1YJhHoYXDM"
      },
      "source": [
        "## Callenge 4.1\n",
        "Use the variables `X_train`, `X_test`, `y_train`, and `y_test` to explore your data. In particular, calculate and display the following information.\n",
        "* Number of samples in the training set in total and in each class.\n",
        "* Number of samples in the testing set in total and in each class.\n",
        "* Number of features in the dataset. \n",
        "* Number of classes in the dataset.\n",
        "* IDs of the number of classes.\n",
        "\n",
        "\n"
      ]
    },
    {
      "cell_type": "code",
      "metadata": {
        "id": "lSm4hG_xYXDN",
        "colab": {
          "base_uri": "https://localhost:8080/"
        },
        "outputId": "7dfcc957-d147-4123-8744-e462004512de"
      },
      "source": [
        "import numpy as np\n",
        "print(X_train.shape)\n",
        "print('There are 1199 rows and 11 columns in the x_train class')\n",
        "print(X_test.shape)\n",
        "print('There are 400 rows and 11 columns in the x_test class')\n",
        "print(y_train.shape)\n",
        "print('There are 1199 rows in the y_train class')\n",
        "print(y_test.shape)\n",
        "print('There are 400 rows in the y_test class')\n",
        "print('There are 119 samples in the training set in total and 400 samples in the testing set in total')\n",
        "\n",
        "print('There are 11 features in the x_train and x_test classes. They are: ')\n",
        "print(X_train.columns)\n",
        "\n",
        "print(X_train.value_counts())\n",
        "print(X_test.value_counts())\n",
        "print(y_train.value_counts())\n",
        "print(y_test.value_counts())\n"
      ],
      "execution_count": 32,
      "outputs": [
        {
          "output_type": "stream",
          "name": "stdout",
          "text": [
            "(1199, 11)\n",
            "There are 1199 rows and 11 columns in the x_train class\n",
            "(400, 11)\n",
            "There are 400 rows and 11 columns in the x_test class\n",
            "(1199,)\n",
            "There are 1199 rows in the y_train class\n",
            "(400,)\n",
            "There are 400 rows in the y_test class\n",
            "There are 119 samples in the training set in total and 400 samples in the testing set in total\n",
            "There are 11 features in the x_train and x_test classes. They are: \n",
            "Index(['fixed.acidity', 'volatile.acidity', 'citric.acid', 'residual.sugar',\n",
            "       'chlorides', 'free.sulfur.dioxide', 'total.sulfur.dioxide', 'density',\n",
            "       'pH', 'sulphates', 'alcohol'],\n",
            "      dtype='object')\n",
            "fixed.acidity  volatile.acidity  citric.acid  residual.sugar  chlorides  free.sulfur.dioxide  total.sulfur.dioxide  density  pH    sulphates  alcohol\n",
            "7.0            0.69              0.07         2.5             0.091      15.0                 21.0                  0.99572  3.38  0.60       11.3       3\n",
            "9.3            0.36              0.39         1.5             0.080      41.0                 55.0                  0.99652  3.47  0.73       10.9       3\n",
            "9.9            0.54              0.45         2.3             0.071      16.0                 40.0                  0.99910  3.39  0.62       9.4        3\n",
            "7.5            0.51              0.02         1.7             0.084      13.0                 31.0                  0.99538  3.36  0.54       10.5       3\n",
            "6.7            0.46              0.24         1.7             0.077      18.0                 34.0                  0.99480  3.39  0.60       10.6       3\n",
            "                                                                                                                                                        ..\n",
            "7.5            0.55              0.24         2.0             0.078      10.0                 28.0                  0.99830  3.45  0.78       9.5        1\n",
            "               0.57              0.08         2.6             0.089      14.0                 27.0                  0.99592  3.30  0.59       10.4       1\n",
            "               0.58              0.03         4.1             0.080      27.0                 46.0                  0.99592  3.02  0.47       9.2        1\n",
            "                                 0.14         2.2             0.077      27.0                 60.0                  0.99630  3.28  0.59       9.8        1\n",
            "15.9           0.36              0.65         7.5             0.096      22.0                 71.0                  0.99760  2.98  0.84       14.9       1\n",
            "Length: 1051, dtype: int64\n",
            "fixed.acidity  volatile.acidity  citric.acid  residual.sugar  chlorides  free.sulfur.dioxide  total.sulfur.dioxide  density  pH    sulphates  alcohol\n",
            "8.3            0.260             0.42         2.00            0.080      11.0                 27.0                  0.99740  3.21  0.80       9.4        3\n",
            "7.2            0.360             0.46         2.10            0.074      24.0                 44.0                  0.99534  3.40  0.85       11.0       3\n",
            "7.1            0.600             0.00         1.80            0.074      16.0                 34.0                  0.99720  3.47  0.70       9.9        2\n",
            "9.1            0.220             0.24         2.10            0.078      1.0                  28.0                  0.99900  3.41  0.87       10.3       2\n",
            "11.5           0.180             0.51         4.00            0.104      4.0                  23.0                  0.99960  3.28  0.97       10.1       2\n",
            "                                                                                                                                                        ..\n",
            "7.3            0.320             0.23         2.30            0.066      35.0                 70.0                  0.99588  3.43  0.62       10.1       1\n",
            "7.2            0.835             0.00         2.00            0.166      4.0                  11.0                  0.99608  3.39  0.52       10.0       1\n",
            "               0.725             0.05         4.65            0.086      4.0                  11.0                  0.99620  3.41  0.39       10.9       1\n",
            "               0.695             0.13         2.00            0.076      12.0                 20.0                  0.99546  3.29  0.54       10.1       1\n",
            "15.5           0.645             0.49         4.20            0.095      10.0                 23.0                  1.00315  2.92  0.74       11.1       1\n",
            "Length: 382, dtype: int64\n",
            "Good    633\n",
            "Bad     566\n",
            "Name: quality, dtype: int64\n",
            "Good    222\n",
            "Bad     178\n",
            "Name: quality, dtype: int64\n"
          ]
        }
      ]
    },
    {
      "cell_type": "markdown",
      "metadata": {
        "id": "5dp5WBluYXDQ"
      },
      "source": [
        "## Challenge 4.2 \n",
        "Train a **Support Vector Machine** classifier using the `(X_train,y_train)` dataset and use trained model to predict the underlying classes for the observations in the test dataset `X_test`. Store your prediction in a variable called `y_pred`."
      ]
    },
    {
      "cell_type": "code",
      "metadata": {
        "id": "hVFLojbcYXDQ",
        "colab": {
          "base_uri": "https://localhost:8080/"
        },
        "outputId": "7134279b-9a66-4203-f573-5741e25c57cd"
      },
      "source": [
        "from sklearn import svm\n",
        "model  = svm.SVC(kernel='linear')\n",
        "model.fit(X_train,y_train)\n",
        "y_pred= model.predict(X_test)\n",
        "print(y_pred)"
      ],
      "execution_count": 33,
      "outputs": [
        {
          "output_type": "stream",
          "name": "stdout",
          "text": [
            "['Bad' 'Bad' 'Good' 'Bad' 'Good' 'Bad' 'Bad' 'Bad' 'Good' 'Good' 'Good'\n",
            " 'Bad' 'Bad' 'Bad' 'Bad' 'Good' 'Bad' 'Bad' 'Good' 'Bad' 'Bad' 'Bad'\n",
            " 'Good' 'Good' 'Bad' 'Bad' 'Good' 'Bad' 'Bad' 'Good' 'Bad' 'Bad' 'Good'\n",
            " 'Bad' 'Bad' 'Bad' 'Good' 'Good' 'Good' 'Good' 'Bad' 'Bad' 'Good' 'Bad'\n",
            " 'Good' 'Good' 'Good' 'Bad' 'Bad' 'Good' 'Bad' 'Bad' 'Good' 'Good' 'Bad'\n",
            " 'Bad' 'Good' 'Bad' 'Good' 'Bad' 'Bad' 'Good' 'Bad' 'Bad' 'Good' 'Bad'\n",
            " 'Good' 'Bad' 'Good' 'Bad' 'Good' 'Bad' 'Good' 'Good' 'Good' 'Bad' 'Good'\n",
            " 'Good' 'Good' 'Good' 'Bad' 'Good' 'Bad' 'Good' 'Good' 'Good' 'Bad' 'Good'\n",
            " 'Good' 'Bad' 'Good' 'Bad' 'Good' 'Good' 'Bad' 'Good' 'Bad' 'Good' 'Bad'\n",
            " 'Bad' 'Bad' 'Bad' 'Good' 'Good' 'Bad' 'Good' 'Bad' 'Bad' 'Good' 'Bad'\n",
            " 'Good' 'Bad' 'Good' 'Bad' 'Good' 'Good' 'Good' 'Good' 'Bad' 'Good' 'Good'\n",
            " 'Bad' 'Good' 'Bad' 'Bad' 'Bad' 'Good' 'Good' 'Good' 'Good' 'Good' 'Bad'\n",
            " 'Bad' 'Good' 'Good' 'Bad' 'Bad' 'Bad' 'Bad' 'Good' 'Good' 'Good' 'Good'\n",
            " 'Good' 'Good' 'Bad' 'Good' 'Bad' 'Good' 'Bad' 'Good' 'Good' 'Bad' 'Good'\n",
            " 'Good' 'Good' 'Bad' 'Good' 'Bad' 'Good' 'Good' 'Good' 'Good' 'Bad' 'Bad'\n",
            " 'Good' 'Bad' 'Bad' 'Bad' 'Bad' 'Bad' 'Bad' 'Good' 'Bad' 'Bad' 'Good'\n",
            " 'Good' 'Bad' 'Bad' 'Bad' 'Bad' 'Good' 'Bad' 'Good' 'Bad' 'Good' 'Bad'\n",
            " 'Good' 'Good' 'Bad' 'Bad' 'Good' 'Good' 'Good' 'Good' 'Bad' 'Bad' 'Bad'\n",
            " 'Bad' 'Good' 'Bad' 'Bad' 'Bad' 'Bad' 'Good' 'Good' 'Bad' 'Good' 'Bad'\n",
            " 'Good' 'Good' 'Bad' 'Good' 'Good' 'Good' 'Good' 'Bad' 'Bad' 'Good' 'Bad'\n",
            " 'Bad' 'Good' 'Good' 'Good' 'Bad' 'Bad' 'Bad' 'Good' 'Bad' 'Bad' 'Bad'\n",
            " 'Bad' 'Good' 'Good' 'Good' 'Good' 'Bad' 'Good' 'Bad' 'Bad' 'Bad' 'Bad'\n",
            " 'Good' 'Good' 'Bad' 'Bad' 'Good' 'Bad' 'Good' 'Bad' 'Good' 'Good' 'Bad'\n",
            " 'Bad' 'Bad' 'Bad' 'Good' 'Good' 'Good' 'Good' 'Good' 'Good' 'Bad' 'Good'\n",
            " 'Good' 'Good' 'Bad' 'Bad' 'Good' 'Good' 'Bad' 'Good' 'Bad' 'Bad' 'Bad'\n",
            " 'Bad' 'Good' 'Good' 'Good' 'Bad' 'Good' 'Bad' 'Bad' 'Bad' 'Bad' 'Good'\n",
            " 'Bad' 'Good' 'Bad' 'Good' 'Bad' 'Good' 'Bad' 'Bad' 'Bad' 'Good' 'Bad'\n",
            " 'Good' 'Good' 'Good' 'Bad' 'Bad' 'Good' 'Bad' 'Bad' 'Bad' 'Good' 'Good'\n",
            " 'Good' 'Good' 'Good' 'Good' 'Bad' 'Bad' 'Bad' 'Good' 'Bad' 'Bad' 'Good'\n",
            " 'Bad' 'Good' 'Good' 'Good' 'Bad' 'Bad' 'Bad' 'Good' 'Good' 'Bad' 'Good'\n",
            " 'Good' 'Good' 'Bad' 'Bad' 'Bad' 'Good' 'Good' 'Good' 'Bad' 'Bad' 'Good'\n",
            " 'Good' 'Good' 'Bad' 'Good' 'Bad' 'Good' 'Bad' 'Good' 'Good' 'Bad' 'Good'\n",
            " 'Bad' 'Bad' 'Good' 'Good' 'Bad' 'Bad' 'Bad' 'Good' 'Good' 'Bad' 'Bad'\n",
            " 'Good' 'Bad' 'Good' 'Good' 'Bad' 'Bad' 'Bad' 'Bad' 'Bad' 'Good' 'Good'\n",
            " 'Bad' 'Good' 'Bad' 'Good' 'Bad' 'Bad' 'Bad' 'Good' 'Good' 'Bad' 'Good'\n",
            " 'Good' 'Good' 'Bad' 'Bad' 'Good' 'Bad' 'Good' 'Bad' 'Bad' 'Good' 'Good'\n",
            " 'Good' 'Bad' 'Bad' 'Good']\n"
          ]
        }
      ]
    },
    {
      "cell_type": "markdown",
      "metadata": {
        "id": "aX1MGX3bYXDT"
      },
      "source": [
        "## Challenge 4.3\n",
        "Evaluate the performance of your classifier. Calculate and display the following:\n",
        "* print the `confusion matrix`.\n",
        "* `normalized confusion matrix`. \n",
        "* the probablitity of correct classification (accuracy score). \n",
        "* the `precision`, `recall`, and `f1-score` for each class."
      ]
    },
    {
      "cell_type": "code",
      "metadata": {
        "id": "3hoUdKozYXDU",
        "colab": {
          "base_uri": "https://localhost:8080/"
        },
        "outputId": "8e6a3c10-0116-40c5-98f0-9c5d00e83773"
      },
      "source": [
        "from sklearn.metrics import confusion_matrix,precision_score,accuracy_score,recall_score,f1_score,classification_report \n",
        "cm = confusion_matrix(y_test, y_pred)\n",
        "cm_normalized = cm.astype('float') / cm.sum(axis=1)[:, np.newaxis]\n",
        "ac = accuracy_score(y_test,y_pred)\n",
        "ps = precision_score(y_test, y_pred, average='macro')\n",
        "rs = recall_score(y_test, y_pred, average='macro')\n",
        "f1s = f1_score(y_test, y_pred, average='macro')\n",
        "print('Confusion Matrix:')\n",
        "print(cm)\n",
        "print(' \\n Normalized Confusion Matrix:')\n",
        "print(cm_normalized)\n",
        "print(' \\n Accuracy Score:')\n",
        "print(ac)\n",
        "print(' \\n Precision Score:')\n",
        "print(ps)\n",
        "print(' \\n Recall Score:')\n",
        "print(rs)\n",
        "print(' \\n F1-Score:')\n",
        "print(f1s)\n"
      ],
      "execution_count": 34,
      "outputs": [
        {
          "output_type": "stream",
          "name": "stdout",
          "text": [
            "Confusion Matrix:\n",
            "[[135  43]\n",
            " [ 66 156]]\n",
            " \n",
            " Normalized Confusion Matrix:\n",
            "[[0.75842697 0.24157303]\n",
            " [0.2972973  0.7027027 ]]\n",
            " \n",
            " Accuracy Score:\n",
            "0.7275\n",
            " \n",
            " Precision Score:\n",
            "0.7277806945173629\n",
            " \n",
            " Recall Score:\n",
            "0.7305648344974187\n",
            " \n",
            " F1-Score:\n",
            "0.7267468459942718\n"
          ]
        }
      ]
    },
    {
      "cell_type": "markdown",
      "metadata": {
        "id": "ouqRqJw1YXDZ"
      },
      "source": [
        "# Challenge 5\n",
        "\n",
        "The **SVM** classifier accepts a number of parameters. These parameters include the parameter `C` (i.e. the regularization parameter), the `kernel` which specified the kernel function to be used, and the parameter `gamma` which can be used to specify the kernel coefficents for certain kernels (i.e. `rbf`, `poly` and `sigmoid`). You can find more information about the various parameters in implementation of the SVM classifier on the following website:\n",
        "\n",
        "- [SVM documentation on sklearn](https://scikit-learn.org/stable/modules/generated/sklearn.svm.SVC.html#sklearn.svm.SVC)\n",
        "- [User Guide on Support Vector Machines](https://scikit-learn.org/stable/modules/svm.html#svm-classification)\n",
        "- [Kernel Function Supported by sklearn library](https://scikit-learn.org/stable/modules/svm.html#svm-kernels)\n",
        "\n",
        "\n",
        "After reading the documentation to understand how the various parameters are used, evaluate the classifier for different values of C, gamma and kernel parameters and identify which configuration achieve the best performance on the testing set. Plot or print your results.\n"
      ]
    },
    {
      "cell_type": "code",
      "metadata": {
        "id": "5FinafW1YXDb",
        "colab": {
          "base_uri": "https://localhost:8080/"
        },
        "outputId": "c6d77734-8661-4369-ff49-6a641d87fed5"
      },
      "source": [
        "from sklearn import svm\n",
        "model  = svm.SVC(C=1.0,kernel='poly',gamma='scale')\n",
        "model.fit(X_train,y_train)\n",
        "y_pred= model.predict(X_test)\n",
        "\n",
        "from sklearn.metrics import confusion_matrix,precision_score,accuracy_score,recall_score,f1_score,classification_report \n",
        "cm = confusion_matrix(y_test, y_pred)\n",
        "cm_normalized = cm.astype('float') / cm.sum(axis=1)[:, np.newaxis]\n",
        "ac = accuracy_score(y_test,y_pred)\n",
        "ps = precision_score(y_test, y_pred, average='macro')\n",
        "rs = recall_score(y_test, y_pred, average='macro')\n",
        "f1s = f1_score(y_test, y_pred, average='macro')\n",
        "print('Confusion Matrix:')\n",
        "print(cm)\n",
        "print(' \\n Normalized Confusion Matrix:')\n",
        "print(cm_normalized)\n",
        "print(' \\n Accuracy Score:')\n",
        "print(ac)\n",
        "print(' \\n Precision Score:')\n",
        "print(ps)\n",
        "print(' \\n Recall Score:')\n",
        "print(rs)\n",
        "print(' \\n F1-Score:')\n",
        "print(f1s)"
      ],
      "execution_count": 37,
      "outputs": [
        {
          "output_type": "stream",
          "name": "stdout",
          "text": [
            "Confusion Matrix:\n",
            "[[ 48 130]\n",
            " [ 14 208]]\n",
            " \n",
            " Normalized Confusion Matrix:\n",
            "[[0.26966292 0.73033708]\n",
            " [0.06306306 0.93693694]]\n",
            " \n",
            " Accuracy Score:\n",
            "0.64\n",
            " \n",
            " Precision Score:\n",
            "0.6947890818858561\n",
            " \n",
            " Recall Score:\n",
            "0.6032999291426258\n",
            " \n",
            " F1-Score:\n",
            "0.5714285714285714\n"
          ]
        }
      ]
    },
    {
      "cell_type": "markdown",
      "source": [
        "Using the kernel parameter of 'polu' resulted in a lower accuracy score of 0.64"
      ],
      "metadata": {
        "id": "6KddHRHcQK60"
      }
    },
    {
      "cell_type": "code",
      "source": [
        "from sklearn import svm\n",
        "model  = svm.SVC(C=1.0,kernel='rbf',gamma='scale')\n",
        "model.fit(X_train,y_train)\n",
        "y_pred= model.predict(X_test)\n",
        "\n",
        "from sklearn.metrics import confusion_matrix,precision_score,accuracy_score,recall_score,f1_score,classification_report \n",
        "cm = confusion_matrix(y_test, y_pred)\n",
        "cm_normalized = cm.astype('float') / cm.sum(axis=1)[:, np.newaxis]\n",
        "ac = accuracy_score(y_test,y_pred)\n",
        "ps = precision_score(y_test, y_pred, average='macro')\n",
        "rs = recall_score(y_test, y_pred, average='macro')\n",
        "f1s = f1_score(y_test, y_pred, average='macro')\n",
        "print('Confusion Matrix:')\n",
        "print(cm)\n",
        "print(' \\n Normalized Confusion Matrix:')\n",
        "print(cm_normalized)\n",
        "print(' \\n Accuracy Score:')\n",
        "print(ac)\n",
        "print(' \\n Precision Score:')\n",
        "print(ps)\n",
        "print(' \\n Recall Score:')\n",
        "print(rs)\n",
        "print(' \\n F1-Score:')\n",
        "print(f1s)"
      ],
      "metadata": {
        "colab": {
          "base_uri": "https://localhost:8080/"
        },
        "id": "3XAQuLQVQOGN",
        "outputId": "039d2174-b72b-42c9-a815-7b4056ee468e"
      },
      "execution_count": 38,
      "outputs": [
        {
          "output_type": "stream",
          "name": "stdout",
          "text": [
            "Confusion Matrix:\n",
            "[[ 65 113]\n",
            " [ 32 190]]\n",
            " \n",
            " Normalized Confusion Matrix:\n",
            "[[0.36516854 0.63483146]\n",
            " [0.14414414 0.85585586]]\n",
            " \n",
            " Accuracy Score:\n",
            "0.6375\n",
            " \n",
            " Precision Score:\n",
            "0.6485828995270662\n",
            " \n",
            " Recall Score:\n",
            "0.6105121975908493\n",
            " \n",
            " F1-Score:\n",
            "0.5982683982683983\n"
          ]
        }
      ]
    },
    {
      "cell_type": "markdown",
      "source": [
        "The parameter 'rbf' is even lower than 'poly', with an accuracy of 0.6375"
      ],
      "metadata": {
        "id": "ezXwaM-QQRjR"
      }
    },
    {
      "cell_type": "code",
      "source": [
        "from sklearn import svm\n",
        "model  = svm.SVC(C=1.0,kernel='sigmoid',gamma='scale')\n",
        "model.fit(X_train,y_train)\n",
        "y_pred= model.predict(X_test)\n",
        "\n",
        "from sklearn.metrics import confusion_matrix,precision_score,accuracy_score,recall_score,f1_score,classification_report \n",
        "cm = confusion_matrix(y_test, y_pred)\n",
        "cm_normalized = cm.astype('float') / cm.sum(axis=1)[:, np.newaxis]\n",
        "ac = accuracy_score(y_test,y_pred)\n",
        "ps = precision_score(y_test, y_pred, average='macro')\n",
        "rs = recall_score(y_test, y_pred, average='macro')\n",
        "f1s = f1_score(y_test, y_pred, average='macro')\n",
        "print('Confusion Matrix:')\n",
        "print(cm)\n",
        "print(' \\n Normalized Confusion Matrix:')\n",
        "print(cm_normalized)\n",
        "print(' \\n Accuracy Score:')\n",
        "print(ac)\n",
        "print(' \\n Precision Score:')\n",
        "print(ps)\n",
        "print(' \\n Recall Score:')\n",
        "print(rs)\n",
        "print(' \\n F1-Score:')\n",
        "print(f1s)"
      ],
      "metadata": {
        "colab": {
          "base_uri": "https://localhost:8080/"
        },
        "id": "9-I589I3QVSm",
        "outputId": "46180239-9e42-4aa9-aeb4-127fdbd557ad"
      },
      "execution_count": 39,
      "outputs": [
        {
          "output_type": "stream",
          "name": "stdout",
          "text": [
            "Confusion Matrix:\n",
            "[[ 62 116]\n",
            " [120 102]]\n",
            " \n",
            " Normalized Confusion Matrix:\n",
            "[[0.34831461 0.65168539]\n",
            " [0.54054054 0.45945946]]\n",
            " \n",
            " Accuracy Score:\n",
            "0.41\n",
            " \n",
            " Precision Score:\n",
            "0.4042746244581107\n",
            " \n",
            " Recall Score:\n",
            "0.40388703310051627\n",
            " \n",
            " F1-Score:\n",
            "0.40404040404040403\n"
          ]
        }
      ]
    },
    {
      "cell_type": "markdown",
      "source": [
        "The kernel parameter of 'sigmoid' had the worst accuracy of 0.41, proving that 'linear' is the best kernel parameter for this dataset."
      ],
      "metadata": {
        "id": "nWy_E19sQaYq"
      }
    },
    {
      "cell_type": "code",
      "source": [
        "from sklearn import svm\n",
        "model  = svm.SVC(C=5.0,kernel='linear',gamma='scale')\n",
        "model.fit(X_train,y_train)\n",
        "y_pred= model.predict(X_test)\n",
        "\n",
        "from sklearn.metrics import confusion_matrix,precision_score,accuracy_score,recall_score,f1_score,classification_report \n",
        "cm = confusion_matrix(y_test, y_pred)\n",
        "cm_normalized = cm.astype('float') / cm.sum(axis=1)[:, np.newaxis]\n",
        "ac = accuracy_score(y_test,y_pred)\n",
        "ps = precision_score(y_test, y_pred, average='macro')\n",
        "rs = recall_score(y_test, y_pred, average='macro')\n",
        "f1s = f1_score(y_test, y_pred, average='macro')\n",
        "print('Confusion Matrix:')\n",
        "print(cm)\n",
        "print(' \\n Normalized Confusion Matrix:')\n",
        "print(cm_normalized)\n",
        "print(' \\n Accuracy Score:')\n",
        "print(ac)\n",
        "print(' \\n Precision Score:')\n",
        "print(ps)\n",
        "print(' \\n Recall Score:')\n",
        "print(rs)\n",
        "print(' \\n F1-Score:')\n",
        "print(f1s)"
      ],
      "metadata": {
        "colab": {
          "base_uri": "https://localhost:8080/"
        },
        "id": "PcfGlmvrQe0w",
        "outputId": "5fb25a7f-07bf-46a1-a032-52bc594b5da6"
      },
      "execution_count": 46,
      "outputs": [
        {
          "output_type": "stream",
          "name": "stdout",
          "text": [
            "Confusion Matrix:\n",
            "[[136  42]\n",
            " [ 68 154]]\n",
            " \n",
            " Normalized Confusion Matrix:\n",
            "[[0.76404494 0.23595506]\n",
            " [0.30630631 0.69369369]]\n",
            " \n",
            " Accuracy Score:\n",
            "0.725\n",
            " \n",
            " Precision Score:\n",
            "0.7261904761904762\n",
            " \n",
            " Recall Score:\n",
            "0.7288693187569593\n",
            " \n",
            " F1-Score:\n",
            "0.7244419950399559\n"
          ]
        }
      ]
    },
    {
      "cell_type": "markdown",
      "source": [
        "Increasing the C value only made the accuracy score worse."
      ],
      "metadata": {
        "id": "Oc1mzg-tRCDf"
      }
    },
    {
      "cell_type": "markdown",
      "metadata": {
        "id": "76vGnBXZIWoI"
      },
      "source": [
        "\n",
        "Copyright Statement: Copyright © 2020 Christoforou. The materials provided by the instructor of this course, including this notebook, are for the use of the students enrolled in the course. Materials are presented in an educational context for personal use and study and should not be shared, distributed, disseminated or sold in print — or digitally — outside the course without permission. You may not, nor may you knowingly allow others to reproduce or distribute lecture notes, course materials as well as any of their derivatives without the instructor's express written consent."
      ]
    }
  ]
}